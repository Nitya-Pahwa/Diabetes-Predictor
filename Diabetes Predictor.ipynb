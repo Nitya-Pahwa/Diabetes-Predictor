{
 "cells": [
  {
   "cell_type": "code",
   "execution_count": 1,
   "id": "3f060370-d5f8-494f-8927-cb7d2d4309f0",
   "metadata": {},
   "outputs": [],
   "source": [
    "import numpy as np\n",
    "import pandas as pd"
   ]
  },
  {
   "cell_type": "markdown",
   "id": "dbfbf511-3e71-4fc1-956c-b5cf7f31b1b2",
   "metadata": {},
   "source": [
    "Loading the data"
   ]
  },
  {
   "cell_type": "code",
   "execution_count": 2,
   "id": "72883cc3-5e37-47db-b993-b11512630778",
   "metadata": {},
   "outputs": [],
   "source": [
    "data=pd.read_csv('diabetes.csv')"
   ]
  },
  {
   "cell_type": "code",
   "execution_count": 3,
   "id": "a436898a-f74f-4564-83c4-7d18f50a470d",
   "metadata": {},
   "outputs": [
    {
     "data": {
      "text/html": [
       "<div>\n",
       "<style scoped>\n",
       "    .dataframe tbody tr th:only-of-type {\n",
       "        vertical-align: middle;\n",
       "    }\n",
       "\n",
       "    .dataframe tbody tr th {\n",
       "        vertical-align: top;\n",
       "    }\n",
       "\n",
       "    .dataframe thead th {\n",
       "        text-align: right;\n",
       "    }\n",
       "</style>\n",
       "<table border=\"1\" class=\"dataframe\">\n",
       "  <thead>\n",
       "    <tr style=\"text-align: right;\">\n",
       "      <th></th>\n",
       "      <th>Pregnancies</th>\n",
       "      <th>Glucose</th>\n",
       "      <th>BloodPressure</th>\n",
       "      <th>SkinThickness</th>\n",
       "      <th>Insulin</th>\n",
       "      <th>BMI</th>\n",
       "      <th>DiabetesPedigreeFunction</th>\n",
       "      <th>Age</th>\n",
       "      <th>Outcome</th>\n",
       "    </tr>\n",
       "  </thead>\n",
       "  <tbody>\n",
       "    <tr>\n",
       "      <th>0</th>\n",
       "      <td>6</td>\n",
       "      <td>148</td>\n",
       "      <td>72</td>\n",
       "      <td>35</td>\n",
       "      <td>0</td>\n",
       "      <td>33.6</td>\n",
       "      <td>0.627</td>\n",
       "      <td>50</td>\n",
       "      <td>1</td>\n",
       "    </tr>\n",
       "    <tr>\n",
       "      <th>1</th>\n",
       "      <td>1</td>\n",
       "      <td>85</td>\n",
       "      <td>66</td>\n",
       "      <td>29</td>\n",
       "      <td>0</td>\n",
       "      <td>26.6</td>\n",
       "      <td>0.351</td>\n",
       "      <td>31</td>\n",
       "      <td>0</td>\n",
       "    </tr>\n",
       "    <tr>\n",
       "      <th>2</th>\n",
       "      <td>8</td>\n",
       "      <td>183</td>\n",
       "      <td>64</td>\n",
       "      <td>0</td>\n",
       "      <td>0</td>\n",
       "      <td>23.3</td>\n",
       "      <td>0.672</td>\n",
       "      <td>32</td>\n",
       "      <td>1</td>\n",
       "    </tr>\n",
       "    <tr>\n",
       "      <th>3</th>\n",
       "      <td>1</td>\n",
       "      <td>89</td>\n",
       "      <td>66</td>\n",
       "      <td>23</td>\n",
       "      <td>94</td>\n",
       "      <td>28.1</td>\n",
       "      <td>0.167</td>\n",
       "      <td>21</td>\n",
       "      <td>0</td>\n",
       "    </tr>\n",
       "    <tr>\n",
       "      <th>4</th>\n",
       "      <td>0</td>\n",
       "      <td>137</td>\n",
       "      <td>40</td>\n",
       "      <td>35</td>\n",
       "      <td>168</td>\n",
       "      <td>43.1</td>\n",
       "      <td>2.288</td>\n",
       "      <td>33</td>\n",
       "      <td>1</td>\n",
       "    </tr>\n",
       "  </tbody>\n",
       "</table>\n",
       "</div>"
      ],
      "text/plain": [
       "   Pregnancies  Glucose  BloodPressure  SkinThickness  Insulin   BMI  \\\n",
       "0            6      148             72             35        0  33.6   \n",
       "1            1       85             66             29        0  26.6   \n",
       "2            8      183             64              0        0  23.3   \n",
       "3            1       89             66             23       94  28.1   \n",
       "4            0      137             40             35      168  43.1   \n",
       "\n",
       "   DiabetesPedigreeFunction  Age  Outcome  \n",
       "0                     0.627   50        1  \n",
       "1                     0.351   31        0  \n",
       "2                     0.672   32        1  \n",
       "3                     0.167   21        0  \n",
       "4                     2.288   33        1  "
      ]
     },
     "execution_count": 3,
     "metadata": {},
     "output_type": "execute_result"
    }
   ],
   "source": [
    "data.head()"
   ]
  },
  {
   "cell_type": "code",
   "execution_count": 4,
   "id": "e106dd2d-5427-4b4e-9035-8ed4389806ed",
   "metadata": {},
   "outputs": [
    {
     "data": {
      "text/plain": [
       "(768, 9)"
      ]
     },
     "execution_count": 4,
     "metadata": {},
     "output_type": "execute_result"
    }
   ],
   "source": [
    "data.shape"
   ]
  },
  {
   "cell_type": "code",
   "execution_count": 5,
   "id": "d355548d-5f28-48f7-979a-c142e897bda5",
   "metadata": {},
   "outputs": [
    {
     "data": {
      "text/html": [
       "<div>\n",
       "<style scoped>\n",
       "    .dataframe tbody tr th:only-of-type {\n",
       "        vertical-align: middle;\n",
       "    }\n",
       "\n",
       "    .dataframe tbody tr th {\n",
       "        vertical-align: top;\n",
       "    }\n",
       "\n",
       "    .dataframe thead th {\n",
       "        text-align: right;\n",
       "    }\n",
       "</style>\n",
       "<table border=\"1\" class=\"dataframe\">\n",
       "  <thead>\n",
       "    <tr style=\"text-align: right;\">\n",
       "      <th></th>\n",
       "      <th>Pregnancies</th>\n",
       "      <th>Glucose</th>\n",
       "      <th>BloodPressure</th>\n",
       "      <th>SkinThickness</th>\n",
       "      <th>Insulin</th>\n",
       "      <th>BMI</th>\n",
       "      <th>DiabetesPedigreeFunction</th>\n",
       "      <th>Age</th>\n",
       "      <th>Outcome</th>\n",
       "    </tr>\n",
       "  </thead>\n",
       "  <tbody>\n",
       "    <tr>\n",
       "      <th>count</th>\n",
       "      <td>768.000000</td>\n",
       "      <td>768.000000</td>\n",
       "      <td>768.000000</td>\n",
       "      <td>768.000000</td>\n",
       "      <td>768.000000</td>\n",
       "      <td>768.000000</td>\n",
       "      <td>768.000000</td>\n",
       "      <td>768.000000</td>\n",
       "      <td>768.000000</td>\n",
       "    </tr>\n",
       "    <tr>\n",
       "      <th>mean</th>\n",
       "      <td>3.845052</td>\n",
       "      <td>120.894531</td>\n",
       "      <td>69.105469</td>\n",
       "      <td>20.536458</td>\n",
       "      <td>79.799479</td>\n",
       "      <td>31.992578</td>\n",
       "      <td>0.471876</td>\n",
       "      <td>33.240885</td>\n",
       "      <td>0.348958</td>\n",
       "    </tr>\n",
       "    <tr>\n",
       "      <th>std</th>\n",
       "      <td>3.369578</td>\n",
       "      <td>31.972618</td>\n",
       "      <td>19.355807</td>\n",
       "      <td>15.952218</td>\n",
       "      <td>115.244002</td>\n",
       "      <td>7.884160</td>\n",
       "      <td>0.331329</td>\n",
       "      <td>11.760232</td>\n",
       "      <td>0.476951</td>\n",
       "    </tr>\n",
       "    <tr>\n",
       "      <th>min</th>\n",
       "      <td>0.000000</td>\n",
       "      <td>0.000000</td>\n",
       "      <td>0.000000</td>\n",
       "      <td>0.000000</td>\n",
       "      <td>0.000000</td>\n",
       "      <td>0.000000</td>\n",
       "      <td>0.078000</td>\n",
       "      <td>21.000000</td>\n",
       "      <td>0.000000</td>\n",
       "    </tr>\n",
       "    <tr>\n",
       "      <th>25%</th>\n",
       "      <td>1.000000</td>\n",
       "      <td>99.000000</td>\n",
       "      <td>62.000000</td>\n",
       "      <td>0.000000</td>\n",
       "      <td>0.000000</td>\n",
       "      <td>27.300000</td>\n",
       "      <td>0.243750</td>\n",
       "      <td>24.000000</td>\n",
       "      <td>0.000000</td>\n",
       "    </tr>\n",
       "    <tr>\n",
       "      <th>50%</th>\n",
       "      <td>3.000000</td>\n",
       "      <td>117.000000</td>\n",
       "      <td>72.000000</td>\n",
       "      <td>23.000000</td>\n",
       "      <td>30.500000</td>\n",
       "      <td>32.000000</td>\n",
       "      <td>0.372500</td>\n",
       "      <td>29.000000</td>\n",
       "      <td>0.000000</td>\n",
       "    </tr>\n",
       "    <tr>\n",
       "      <th>75%</th>\n",
       "      <td>6.000000</td>\n",
       "      <td>140.250000</td>\n",
       "      <td>80.000000</td>\n",
       "      <td>32.000000</td>\n",
       "      <td>127.250000</td>\n",
       "      <td>36.600000</td>\n",
       "      <td>0.626250</td>\n",
       "      <td>41.000000</td>\n",
       "      <td>1.000000</td>\n",
       "    </tr>\n",
       "    <tr>\n",
       "      <th>max</th>\n",
       "      <td>17.000000</td>\n",
       "      <td>199.000000</td>\n",
       "      <td>122.000000</td>\n",
       "      <td>99.000000</td>\n",
       "      <td>846.000000</td>\n",
       "      <td>67.100000</td>\n",
       "      <td>2.420000</td>\n",
       "      <td>81.000000</td>\n",
       "      <td>1.000000</td>\n",
       "    </tr>\n",
       "  </tbody>\n",
       "</table>\n",
       "</div>"
      ],
      "text/plain": [
       "       Pregnancies     Glucose  BloodPressure  SkinThickness     Insulin  \\\n",
       "count   768.000000  768.000000     768.000000     768.000000  768.000000   \n",
       "mean      3.845052  120.894531      69.105469      20.536458   79.799479   \n",
       "std       3.369578   31.972618      19.355807      15.952218  115.244002   \n",
       "min       0.000000    0.000000       0.000000       0.000000    0.000000   \n",
       "25%       1.000000   99.000000      62.000000       0.000000    0.000000   \n",
       "50%       3.000000  117.000000      72.000000      23.000000   30.500000   \n",
       "75%       6.000000  140.250000      80.000000      32.000000  127.250000   \n",
       "max      17.000000  199.000000     122.000000      99.000000  846.000000   \n",
       "\n",
       "              BMI  DiabetesPedigreeFunction         Age     Outcome  \n",
       "count  768.000000                768.000000  768.000000  768.000000  \n",
       "mean    31.992578                  0.471876   33.240885    0.348958  \n",
       "std      7.884160                  0.331329   11.760232    0.476951  \n",
       "min      0.000000                  0.078000   21.000000    0.000000  \n",
       "25%     27.300000                  0.243750   24.000000    0.000000  \n",
       "50%     32.000000                  0.372500   29.000000    0.000000  \n",
       "75%     36.600000                  0.626250   41.000000    1.000000  \n",
       "max     67.100000                  2.420000   81.000000    1.000000  "
      ]
     },
     "execution_count": 5,
     "metadata": {},
     "output_type": "execute_result"
    }
   ],
   "source": [
    "data.describe()"
   ]
  },
  {
   "cell_type": "code",
   "execution_count": 6,
   "id": "ae65fd2a-5d76-4ff2-b0ba-9f79c8f47c3b",
   "metadata": {},
   "outputs": [
    {
     "name": "stdout",
     "output_type": "stream",
     "text": [
      "<class 'pandas.core.frame.DataFrame'>\n",
      "RangeIndex: 768 entries, 0 to 767\n",
      "Data columns (total 9 columns):\n",
      " #   Column                    Non-Null Count  Dtype  \n",
      "---  ------                    --------------  -----  \n",
      " 0   Pregnancies               768 non-null    int64  \n",
      " 1   Glucose                   768 non-null    int64  \n",
      " 2   BloodPressure             768 non-null    int64  \n",
      " 3   SkinThickness             768 non-null    int64  \n",
      " 4   Insulin                   768 non-null    int64  \n",
      " 5   BMI                       768 non-null    float64\n",
      " 6   DiabetesPedigreeFunction  768 non-null    float64\n",
      " 7   Age                       768 non-null    int64  \n",
      " 8   Outcome                   768 non-null    int64  \n",
      "dtypes: float64(2), int64(7)\n",
      "memory usage: 54.1 KB\n"
     ]
    }
   ],
   "source": [
    "data.info()"
   ]
  },
  {
   "cell_type": "markdown",
   "id": "1e731928-def9-409f-82ff-5ba1e5df5fc0",
   "metadata": {},
   "source": [
    "Checking for null values"
   ]
  },
  {
   "cell_type": "code",
   "execution_count": 7,
   "id": "a198c9e8-9046-4b5f-8c7f-d9c03a47db96",
   "metadata": {},
   "outputs": [
    {
     "data": {
      "text/plain": [
       "Pregnancies                 0\n",
       "Glucose                     0\n",
       "BloodPressure               0\n",
       "SkinThickness               0\n",
       "Insulin                     0\n",
       "BMI                         0\n",
       "DiabetesPedigreeFunction    0\n",
       "Age                         0\n",
       "Outcome                     0\n",
       "dtype: int64"
      ]
     },
     "execution_count": 7,
     "metadata": {},
     "output_type": "execute_result"
    }
   ],
   "source": [
    "data.isnull().sum()"
   ]
  },
  {
   "cell_type": "markdown",
   "id": "2bacb7b4-06fa-4306-a574-d5c89aa7801a",
   "metadata": {},
   "source": [
    "There are no null values in any column"
   ]
  },
  {
   "cell_type": "markdown",
   "id": "d9ce23f4-c119-4a82-9808-75f2e4036322",
   "metadata": {},
   "source": [
    "Checking if there are any duplicate rows"
   ]
  },
  {
   "cell_type": "code",
   "execution_count": 8,
   "id": "ffafd248-decb-454b-aa79-d26ba9e8e08a",
   "metadata": {},
   "outputs": [
    {
     "data": {
      "text/plain": [
       "np.int64(0)"
      ]
     },
     "execution_count": 8,
     "metadata": {},
     "output_type": "execute_result"
    }
   ],
   "source": [
    "data.duplicated().sum()"
   ]
  },
  {
   "cell_type": "markdown",
   "id": "d11c726c-34d2-4635-b88a-d243e3ef632c",
   "metadata": {},
   "source": [
    "There are no duplicate rows in the data set"
   ]
  },
  {
   "cell_type": "markdown",
   "id": "85b2082b-4c90-4553-a459-0ef1ebaed0bf",
   "metadata": {},
   "source": [
    "Data Analysis"
   ]
  },
  {
   "cell_type": "code",
   "execution_count": 9,
   "id": "e94f4fc9-2cdb-4578-ac33-391e7204f769",
   "metadata": {},
   "outputs": [],
   "source": [
    "import matplotlib.pyplot as plt\n",
    "import seaborn as sns"
   ]
  },
  {
   "cell_type": "code",
   "execution_count": 10,
   "id": "34de51d2-25b1-4556-8323-a2e1d2397232",
   "metadata": {},
   "outputs": [
    {
     "data": {
      "text/plain": [
       "<Axes: xlabel='Outcome'>"
      ]
     },
     "execution_count": 10,
     "metadata": {},
     "output_type": "execute_result"
    },
    {
     "data": {
      "image/png": "[encoded data removed]",
      "text/plain": [
       "<Figure size 640x480 with 1 Axes>"
      ]
     },
     "metadata": {},
     "output_type": "display_data"
    }
   ],
   "source": [
    "data['Outcome'].value_counts().plot(kind='bar')"
   ]
  },
  {
   "cell_type": "markdown",
   "id": "2435bd7d-8b81-4b1e-8943-3f7d3d9f04df",
   "metadata": {},
   "source": [
    "Here 0--> No Diabetes\n",
    "     1--> Means Diabetes"
   ]
  },
  {
   "cell_type": "code",
   "execution_count": 11,
   "id": "f8464748-4455-4dde-ab72-ebc314d9de71",
   "metadata": {},
   "outputs": [
    {
     "name": "stderr",
     "output_type": "stream",
     "text": [
      "C:\\Users\\Hp\\AppData\\Local\\Temp\\ipykernel_2684\\3426279659.py:1: UserWarning: \n",
      "\n",
      "`distplot` is a deprecated function and will be removed in seaborn v0.14.0.\n",
      "\n",
      "Please adapt your code to use either `displot` (a figure-level function with\n",
      "similar flexibility) or `histplot` (an axes-level function for histograms).\n",
      "\n",
      "For a guide to updating your code to use the new functions, please see\n",
      "https://gist.github.com/mwaskom/de44147ed2974457ad6372750bbe5751\n",
      "\n",
      "  sns.distplot(data['Pregnancies'])\n"
     ]
    },
    {
     "data": {
      "text/plain": [
       "<Axes: xlabel='Pregnancies', ylabel='Density'>"
      ]
     },
     "execution_count": 11,
     "metadata": {},
     "output_type": "execute_result"
    },
    {
     "data": {
      "image/png": "[encoded data removed]",
      "text/plain": [
       "<Figure size 640x480 with 1 Axes>"
      ]
     },
     "metadata": {},
     "output_type": "display_data"
    }
   ],
   "source": [
    "sns.distplot(data['Pregnancies'])"
   ]
  },
  {
   "cell_type": "code",
   "execution_count": 12,
   "id": "0e078dde-6e27-47b5-b8b7-d8fd319b18b3",
   "metadata": {},
   "outputs": [
    {
     "name": "stderr",
     "output_type": "stream",
     "text": [
      "C:\\Users\\Hp\\AppData\\Local\\Temp\\ipykernel_2684\\1475984872.py:1: UserWarning: \n",
      "\n",
      "`distplot` is a deprecated function and will be removed in seaborn v0.14.0.\n",
      "\n",
      "Please adapt your code to use either `displot` (a figure-level function with\n",
      "similar flexibility) or `histplot` (an axes-level function for histograms).\n",
      "\n",
      "For a guide to updating your code to use the new functions, please see\n",
      "https://gist.github.com/mwaskom/de44147ed2974457ad6372750bbe5751\n",
      "\n",
      "  sns.distplot(data['Glucose'])\n"
     ]
    },
    {
     "data": {
      "text/plain": [
       "<Axes: xlabel='Glucose', ylabel='Density'>"
      ]
     },
     "execution_count": 12,
     "metadata": {},
     "output_type": "execute_result"
    },
    {
     "data": {
      "image/png": "[encoded data removed]",
      "text/plain": [
       "<Figure size 640x480 with 1 Axes>"
      ]
     },
     "metadata": {},
     "output_type": "display_data"
    }
   ],
   "source": [
    "sns.distplot(data['Glucose'])"
   ]
  },
  {
   "cell_type": "code",
   "execution_count": 13,
   "id": "e0da7de7-caba-479f-94cb-f8cad99e5dcc",
   "metadata": {},
   "outputs": [
    {
     "name": "stderr",
     "output_type": "stream",
     "text": [
      "C:\\Users\\Hp\\AppData\\Local\\Temp\\ipykernel_2684\\3514935741.py:1: UserWarning: \n",
      "\n",
      "`distplot` is a deprecated function and will be removed in seaborn v0.14.0.\n",
      "\n",
      "Please adapt your code to use either `displot` (a figure-level function with\n",
      "similar flexibility) or `histplot` (an axes-level function for histograms).\n",
      "\n",
      "For a guide to updating your code to use the new functions, please see\n",
      "https://gist.github.com/mwaskom/de44147ed2974457ad6372750bbe5751\n",
      "\n",
      "  sns.distplot(data['BloodPressure'])\n"
     ]
    },
    {
     "data": {
      "text/plain": [
       "<Axes: xlabel='BloodPressure', ylabel='Density'>"
      ]
     },
     "execution_count": 13,
     "metadata": {},
     "output_type": "execute_result"
    },
    {
     "data": {
      "image/png": "[encoded data removed]",
      "text/plain": [
       "<Figure size 640x480 with 1 Axes>"
      ]
     },
     "metadata": {},
     "output_type": "display_data"
    }
   ],
   "source": [
    "sns.distplot(data['BloodPressure'])"
   ]
  },
  {
   "cell_type": "code",
   "execution_count": 14,
   "id": "45bfe308-3df5-4293-bf4f-4554fb37a75c",
   "metadata": {},
   "outputs": [
    {
     "name": "stderr",
     "output_type": "stream",
     "text": [
      "C:\\Users\\Hp\\AppData\\Local\\Temp\\ipykernel_2684\\1087922965.py:1: UserWarning: \n",
      "\n",
      "`distplot` is a deprecated function and will be removed in seaborn v0.14.0.\n",
      "\n",
      "Please adapt your code to use either `displot` (a figure-level function with\n",
      "similar flexibility) or `histplot` (an axes-level function for histograms).\n",
      "\n",
      "For a guide to updating your code to use the new functions, please see\n",
      "https://gist.github.com/mwaskom/de44147ed2974457ad6372750bbe5751\n",
      "\n",
      "  sns.distplot(data['SkinThickness'])\n"
     ]
    },
    {
     "data": {
      "text/plain": [
       "<Axes: xlabel='SkinThickness', ylabel='Density'>"
      ]
     },
     "execution_count": 14,
     "metadata": {},
     "output_type": "execute_result"
    },
    {
     "data": {
      "image/png": "[encoded data removed]",
      "text/plain": [
       "<Figure size 640x480 with 1 Axes>"
      ]
     },
     "metadata": {},
     "output_type": "display_data"
    }
   ],
   "source": [
    "sns.distplot(data['SkinThickness'])"
   ]
  },
  {
   "cell_type": "code",
   "execution_count": 15,
   "id": "79423303-e83f-43c8-9f56-6dfe7ee76e8b",
   "metadata": {},
   "outputs": [
    {
     "name": "stderr",
     "output_type": "stream",
     "text": [
      "C:\\Users\\Hp\\AppData\\Local\\Temp\\ipykernel_2684\\4080507389.py:1: UserWarning: \n",
      "\n",
      "`distplot` is a deprecated function and will be removed in seaborn v0.14.0.\n",
      "\n",
      "Please adapt your code to use either `displot` (a figure-level function with\n",
      "similar flexibility) or `histplot` (an axes-level function for histograms).\n",
      "\n",
      "For a guide to updating your code to use the new functions, please see\n",
      "https://gist.github.com/mwaskom/de44147ed2974457ad6372750bbe5751\n",
      "\n",
      "  sns.distplot(data['Insulin'])\n"
     ]
    },
    {
     "data": {
      "text/plain": [
       "<Axes: xlabel='Insulin', ylabel='Density'>"
      ]
     },
     "execution_count": 15,
     "metadata": {},
     "output_type": "execute_result"
    },
    {
     "data": {
      "image/png": "[encoded data removed]",
      "text/plain": [
       "<Figure size 640x480 with 1 Axes>"
      ]
     },
     "metadata": {},
     "output_type": "display_data"
    }
   ],
   "source": [
    "sns.distplot(data['Insulin'])"
   ]
  },
  {
   "cell_type": "code",
   "execution_count": 16,
   "id": "d4e8849b-df2a-4674-bf41-7c4ab30a54aa",
   "metadata": {},
   "outputs": [
    {
     "name": "stderr",
     "output_type": "stream",
     "text": [
      "C:\\Users\\Hp\\AppData\\Local\\Temp\\ipykernel_2684\\613475808.py:1: UserWarning: \n",
      "\n",
      "`distplot` is a deprecated function and will be removed in seaborn v0.14.0.\n",
      "\n",
      "Please adapt your code to use either `displot` (a figure-level function with\n",
      "similar flexibility) or `histplot` (an axes-level function for histograms).\n",
      "\n",
      "For a guide to updating your code to use the new functions, please see\n",
      "https://gist.github.com/mwaskom/de44147ed2974457ad6372750bbe5751\n",
      "\n",
      "  sns.distplot(data['BMI'])\n"
     ]
    },
    {
     "data": {
      "text/plain": [
       "<Axes: xlabel='BMI', ylabel='Density'>"
      ]
     },
     "execution_count": 16,
     "metadata": {},
     "output_type": "execute_result"
    },
    {
     "data": {
      "image/png": "[encoded data removed]",
      "text/plain": [
       "<Figure size 640x480 with 1 Axes>"
      ]
     },
     "metadata": {},
     "output_type": "display_data"
    }
   ],
   "source": [
    "sns.distplot(data['BMI'])"
   ]
  },
  {
   "cell_type": "code",
   "execution_count": 17,
   "id": "246633d4-8781-4cad-a38b-0febd34bea4c",
   "metadata": {},
   "outputs": [
    {
     "name": "stderr",
     "output_type": "stream",
     "text": [
      "C:\\Users\\Hp\\AppData\\Local\\Temp\\ipykernel_2684\\1100508857.py:1: UserWarning: \n",
      "\n",
      "`distplot` is a deprecated function and will be removed in seaborn v0.14.0.\n",
      "\n",
      "Please adapt your code to use either `displot` (a figure-level function with\n",
      "similar flexibility) or `histplot` (an axes-level function for histograms).\n",
      "\n",
      "For a guide to updating your code to use the new functions, please see\n",
      "https://gist.github.com/mwaskom/de44147ed2974457ad6372750bbe5751\n",
      "\n",
      "  sns.distplot(data['DiabetesPedigreeFunction'])\n"
     ]
    },
    {
     "data": {
      "text/plain": [
       "<Axes: xlabel='DiabetesPedigreeFunction', ylabel='Density'>"
      ]
     },
     "execution_count": 17,
     "metadata": {},
     "output_type": "execute_result"
    },
    {
     "data": {
      "image/png": "[encoded data removed]",
      "text/plain": [
       "<Figure size 640x480 with 1 Axes>"
      ]
     },
     "metadata": {},
     "output_type": "display_data"
    }
   ],
   "source": [
    "sns.distplot(data['DiabetesPedigreeFunction'])"
   ]
  },
  {
   "cell_type": "code",
   "execution_count": 18,
   "id": "b4140b41-5cf8-45e5-84e1-4f57d7557e58",
   "metadata": {},
   "outputs": [
    {
     "name": "stderr",
     "output_type": "stream",
     "text": [
      "C:\\Users\\Hp\\AppData\\Local\\Temp\\ipykernel_2684\\2317092479.py:1: UserWarning: \n",
      "\n",
      "`distplot` is a deprecated function and will be removed in seaborn v0.14.0.\n",
      "\n",
      "Please adapt your code to use either `displot` (a figure-level function with\n",
      "similar flexibility) or `histplot` (an axes-level function for histograms).\n",
      "\n",
      "For a guide to updating your code to use the new functions, please see\n",
      "https://gist.github.com/mwaskom/de44147ed2974457ad6372750bbe5751\n",
      "\n",
      "  sns.distplot(data['Age'])\n"
     ]
    },
    {
     "data": {
      "text/plain": [
       "<Axes: xlabel='Age', ylabel='Density'>"
      ]
     },
     "execution_count": 18,
     "metadata": {},
     "output_type": "execute_result"
    },
    {
     "data": {
      "image/png": "[encoded data removed]",
      "text/plain": [
       "<Figure size 640x480 with 1 Axes>"
      ]
     },
     "metadata": {},
     "output_type": "display_data"
    }
   ],
   "source": [
    "sns.distplot(data['Age'])"
   ]
  },
  {
   "cell_type": "code",
   "execution_count": 19,
   "id": "96cc4c6d-924c-4fc0-9359-f4bd65ac6f54",
   "metadata": {},
   "outputs": [
    {
     "data": {
      "text/plain": [
       "<Axes: xlabel='Outcome', ylabel='Pregnancies'>"
      ]
     },
     "execution_count": 19,
     "metadata": {},
     "output_type": "execute_result"
    },
    {
     "data": {
      "image/png": "[encoded data removed]",
      "text/plain": [
       "<Figure size 640x480 with 1 Axes>"
      ]
     },
     "metadata": {},
     "output_type": "display_data"
    }
   ],
   "source": [
    "sns.barplot(y=data['Pregnancies'],x=data['Outcome'])"
   ]
  },
  {
   "cell_type": "code",
   "execution_count": 20,
   "id": "55de7b48-6ae2-4094-8fbb-110509bdfc8d",
   "metadata": {},
   "outputs": [
    {
     "data": {
      "text/plain": [
       "<Axes: xlabel='Outcome', ylabel='Glucose'>"
      ]
     },
     "execution_count": 20,
     "metadata": {},
     "output_type": "execute_result"
    },
    {
     "data": {
      "image/png": "[encoded data removed]",
      "text/plain": [
       "<Figure size 640x480 with 1 Axes>"
      ]
     },
     "metadata": {},
     "output_type": "display_data"
    }
   ],
   "source": [
    "sns.barplot(y=data['Glucose'],x=data['Outcome'])"
   ]
  },
  {
   "cell_type": "code",
   "execution_count": 21,
   "id": "8e6b38f3-2ada-4ed2-a628-adc6c2f697b3",
   "metadata": {},
   "outputs": [
    {
     "data": {
      "text/plain": [
       "<Axes: xlabel='Outcome', ylabel='BloodPressure'>"
      ]
     },
     "execution_count": 21,
     "metadata": {},
     "output_type": "execute_result"
    },
    {
     "data": {
      "image/png": "[encoded data removed]",
      "text/plain": [
       "<Figure size 640x480 with 1 Axes>"
      ]
     },
     "metadata": {},
     "output_type": "display_data"
    }
   ],
   "source": [
    "sns.barplot(y=data['BloodPressure'],x=data['Outcome'])"
   ]
  },
  {
   "cell_type": "code",
   "execution_count": 22,
   "id": "e52449dc-4eaf-4414-a7f8-d4d20f7b9c16",
   "metadata": {},
   "outputs": [
    {
     "data": {
      "text/plain": [
       "<Axes: xlabel='Outcome', ylabel='SkinThickness'>"
      ]
     },
     "execution_count": 22,
     "metadata": {},
     "output_type": "execute_result"
    },
    {
     "data": {
      "image/png": "[encoded data removed]",
      "text/plain": [
       "<Figure size 640x480 with 1 Axes>"
      ]
     },
     "metadata": {},
     "output_type": "display_data"
    }
   ],
   "source": [
    "sns.barplot(y=data['SkinThickness'],x=data['Outcome'])"
   ]
  },
  {
   "cell_type": "code",
   "execution_count": 23,
   "id": "c4ebd9dc-64ee-4ee9-8569-c67fb7a29a96",
   "metadata": {},
   "outputs": [
    {
     "data": {
      "text/plain": [
       "<Axes: xlabel='Outcome', ylabel='Insulin'>"
      ]
     },
     "execution_count": 23,
     "metadata": {},
     "output_type": "execute_result"
    },
    {
     "data": {
      "image/png": "[encoded data removed]",
      "text/plain": [
       "<Figure size 640x480 with 1 Axes>"
      ]
     },
     "metadata": {},
     "output_type": "display_data"
    }
   ],
   "source": [
    "sns.barplot(y=data['Insulin'],x=data['Outcome'])"
   ]
  },
  {
   "cell_type": "code",
   "execution_count": 24,
   "id": "d3725523-1279-494e-b5ce-d8328ceb6b73",
   "metadata": {},
   "outputs": [
    {
     "data": {
      "text/plain": [
       "<Axes: xlabel='Outcome', ylabel='BMI'>"
      ]
     },
     "execution_count": 24,
     "metadata": {},
     "output_type": "execute_result"
    },
    {
     "data": {
      "image/png": "[encoded data removed]",
      "text/plain": [
       "<Figure size 640x480 with 1 Axes>"
      ]
     },
     "metadata": {},
     "output_type": "display_data"
    }
   ],
   "source": [
    "sns.barplot(y=data['BMI'],x=data['Outcome'])"
   ]
  },
  {
   "cell_type": "code",
   "execution_count": 25,
   "id": "5c87278f-d3f7-4775-9055-228b4b09e3fb",
   "metadata": {},
   "outputs": [
    {
     "data": {
      "text/plain": [
       "<Axes: xlabel='Outcome', ylabel='DiabetesPedigreeFunction'>"
      ]
     },
     "execution_count": 25,
     "metadata": {},
     "output_type": "execute_result"
    },
    {
     "data": {
      "image/png": "[encoded data removed]",
      "text/plain": [
       "<Figure size 640x480 with 1 Axes>"
      ]
     },
     "metadata": {},
     "output_type": "display_data"
    }
   ],
   "source": [
    "sns.barplot(y=data['DiabetesPedigreeFunction'],x=data['Outcome'])"
   ]
  },
  {
   "cell_type": "code",
   "execution_count": 26,
   "id": "acbb3c3b-3cb9-4166-bafe-fc3b27792f19",
   "metadata": {},
   "outputs": [
    {
     "data": {
      "text/plain": [
       "<Axes: xlabel='Outcome', ylabel='Age'>"
      ]
     },
     "execution_count": 26,
     "metadata": {},
     "output_type": "execute_result"
    },
    {
     "data": {
      "image/png": "[encoded data removed]",
      "text/plain": [
       "<Figure size 640x480 with 1 Axes>"
      ]
     },
     "metadata": {},
     "output_type": "display_data"
    }
   ],
   "source": [
    "sns.barplot(y=data['Age'],x=data['Outcome'])"
   ]
  },
  {
   "cell_type": "markdown",
   "id": "d00f67a6-61e1-45c1-ba8b-fe78bbab73ad",
   "metadata": {},
   "source": [
    "Finding the correlation between columns "
   ]
  },
  {
   "cell_type": "code",
   "execution_count": 27,
   "id": "356a108c-5be0-4982-b3ac-45240a29dbf3",
   "metadata": {},
   "outputs": [
    {
     "data": {
      "text/html": [
       "<div>\n",
       "<style scoped>\n",
       "    .dataframe tbody tr th:only-of-type {\n",
       "        vertical-align: middle;\n",
       "    }\n",
       "\n",
       "    .dataframe tbody tr th {\n",
       "        vertical-align: top;\n",
       "    }\n",
       "\n",
       "    .dataframe thead th {\n",
       "        text-align: right;\n",
       "    }\n",
       "</style>\n",
       "<table border=\"1\" class=\"dataframe\">\n",
       "  <thead>\n",
       "    <tr style=\"text-align: right;\">\n",
       "      <th></th>\n",
       "      <th>Pregnancies</th>\n",
       "      <th>Glucose</th>\n",
       "      <th>BloodPressure</th>\n",
       "      <th>SkinThickness</th>\n",
       "      <th>Insulin</th>\n",
       "      <th>BMI</th>\n",
       "      <th>DiabetesPedigreeFunction</th>\n",
       "      <th>Age</th>\n",
       "      <th>Outcome</th>\n",
       "    </tr>\n",
       "  </thead>\n",
       "  <tbody>\n",
       "    <tr>\n",
       "      <th>Pregnancies</th>\n",
       "      <td>1.000000</td>\n",
       "      <td>0.129459</td>\n",
       "      <td>0.141282</td>\n",
       "      <td>-0.081672</td>\n",
       "      <td>-0.073535</td>\n",
       "      <td>0.017683</td>\n",
       "      <td>-0.033523</td>\n",
       "      <td>0.544341</td>\n",
       "      <td>0.221898</td>\n",
       "    </tr>\n",
       "    <tr>\n",
       "      <th>Glucose</th>\n",
       "      <td>0.129459</td>\n",
       "      <td>1.000000</td>\n",
       "      <td>0.152590</td>\n",
       "      <td>0.057328</td>\n",
       "      <td>0.331357</td>\n",
       "      <td>0.221071</td>\n",
       "      <td>0.137337</td>\n",
       "      <td>0.263514</td>\n",
       "      <td>0.466581</td>\n",
       "    </tr>\n",
       "    <tr>\n",
       "      <th>BloodPressure</th>\n",
       "      <td>0.141282</td>\n",
       "      <td>0.152590</td>\n",
       "      <td>1.000000</td>\n",
       "      <td>0.207371</td>\n",
       "      <td>0.088933</td>\n",
       "      <td>0.281805</td>\n",
       "      <td>0.041265</td>\n",
       "      <td>0.239528</td>\n",
       "      <td>0.065068</td>\n",
       "    </tr>\n",
       "    <tr>\n",
       "      <th>SkinThickness</th>\n",
       "      <td>-0.081672</td>\n",
       "      <td>0.057328</td>\n",
       "      <td>0.207371</td>\n",
       "      <td>1.000000</td>\n",
       "      <td>0.436783</td>\n",
       "      <td>0.392573</td>\n",
       "      <td>0.183928</td>\n",
       "      <td>-0.113970</td>\n",
       "      <td>0.074752</td>\n",
       "    </tr>\n",
       "    <tr>\n",
       "      <th>Insulin</th>\n",
       "      <td>-0.073535</td>\n",
       "      <td>0.331357</td>\n",
       "      <td>0.088933</td>\n",
       "      <td>0.436783</td>\n",
       "      <td>1.000000</td>\n",
       "      <td>0.197859</td>\n",
       "      <td>0.185071</td>\n",
       "      <td>-0.042163</td>\n",
       "      <td>0.130548</td>\n",
       "    </tr>\n",
       "    <tr>\n",
       "      <th>BMI</th>\n",
       "      <td>0.017683</td>\n",
       "      <td>0.221071</td>\n",
       "      <td>0.281805</td>\n",
       "      <td>0.392573</td>\n",
       "      <td>0.197859</td>\n",
       "      <td>1.000000</td>\n",
       "      <td>0.140647</td>\n",
       "      <td>0.036242</td>\n",
       "      <td>0.292695</td>\n",
       "    </tr>\n",
       "    <tr>\n",
       "      <th>DiabetesPedigreeFunction</th>\n",
       "      <td>-0.033523</td>\n",
       "      <td>0.137337</td>\n",
       "      <td>0.041265</td>\n",
       "      <td>0.183928</td>\n",
       "      <td>0.185071</td>\n",
       "      <td>0.140647</td>\n",
       "      <td>1.000000</td>\n",
       "      <td>0.033561</td>\n",
       "      <td>0.173844</td>\n",
       "    </tr>\n",
       "    <tr>\n",
       "      <th>Age</th>\n",
       "      <td>0.544341</td>\n",
       "      <td>0.263514</td>\n",
       "      <td>0.239528</td>\n",
       "      <td>-0.113970</td>\n",
       "      <td>-0.042163</td>\n",
       "      <td>0.036242</td>\n",
       "      <td>0.033561</td>\n",
       "      <td>1.000000</td>\n",
       "      <td>0.238356</td>\n",
       "    </tr>\n",
       "    <tr>\n",
       "      <th>Outcome</th>\n",
       "      <td>0.221898</td>\n",
       "      <td>0.466581</td>\n",
       "      <td>0.065068</td>\n",
       "      <td>0.074752</td>\n",
       "      <td>0.130548</td>\n",
       "      <td>0.292695</td>\n",
       "      <td>0.173844</td>\n",
       "      <td>0.238356</td>\n",
       "      <td>1.000000</td>\n",
       "    </tr>\n",
       "  </tbody>\n",
       "</table>\n",
       "</div>"
      ],
      "text/plain": [
       "                          Pregnancies   Glucose  BloodPressure  SkinThickness  \\\n",
       "Pregnancies                  1.000000  0.129459       0.141282      -0.081672   \n",
       "Glucose                      0.129459  1.000000       0.152590       0.057328   \n",
       "BloodPressure                0.141282  0.152590       1.000000       0.207371   \n",
       "SkinThickness               -0.081672  0.057328       0.207371       1.000000   \n",
       "Insulin                     -0.073535  0.331357       0.088933       0.436783   \n",
       "BMI                          0.017683  0.221071       0.281805       0.392573   \n",
       "DiabetesPedigreeFunction    -0.033523  0.137337       0.041265       0.183928   \n",
       "Age                          0.544341  0.263514       0.239528      -0.113970   \n",
       "Outcome                      0.221898  0.466581       0.065068       0.074752   \n",
       "\n",
       "                           Insulin       BMI  DiabetesPedigreeFunction  \\\n",
       "Pregnancies              -0.073535  0.017683                 -0.033523   \n",
       "Glucose                   0.331357  0.221071                  0.137337   \n",
       "BloodPressure             0.088933  0.281805                  0.041265   \n",
       "SkinThickness             0.436783  0.392573                  0.183928   \n",
       "Insulin                   1.000000  0.197859                  0.185071   \n",
       "BMI                       0.197859  1.000000                  0.140647   \n",
       "DiabetesPedigreeFunction  0.185071  0.140647                  1.000000   \n",
       "Age                      -0.042163  0.036242                  0.033561   \n",
       "Outcome                   0.130548  0.292695                  0.173844   \n",
       "\n",
       "                               Age   Outcome  \n",
       "Pregnancies               0.544341  0.221898  \n",
       "Glucose                   0.263514  0.466581  \n",
       "BloodPressure             0.239528  0.065068  \n",
       "SkinThickness            -0.113970  0.074752  \n",
       "Insulin                  -0.042163  0.130548  \n",
       "BMI                       0.036242  0.292695  \n",
       "DiabetesPedigreeFunction  0.033561  0.173844  \n",
       "Age                       1.000000  0.238356  \n",
       "Outcome                   0.238356  1.000000  "
      ]
     },
     "execution_count": 27,
     "metadata": {},
     "output_type": "execute_result"
    }
   ],
   "source": [
    "data.corr()"
   ]
  },
  {
   "cell_type": "code",
   "execution_count": 28,
   "id": "3838ad9f-5fa9-4300-8b71-182155e2ae2d",
   "metadata": {},
   "outputs": [
    {
     "data": {
      "text/plain": [
       "Pregnancies                 0.221898\n",
       "Glucose                     0.466581\n",
       "BloodPressure               0.065068\n",
       "SkinThickness               0.074752\n",
       "Insulin                     0.130548\n",
       "BMI                         0.292695\n",
       "DiabetesPedigreeFunction    0.173844\n",
       "Age                         0.238356\n",
       "Outcome                     1.000000\n",
       "Name: Outcome, dtype: float64"
      ]
     },
     "execution_count": 28,
     "metadata": {},
     "output_type": "execute_result"
    }
   ],
   "source": [
    "data.corr()['Outcome']"
   ]
  },
  {
   "cell_type": "markdown",
   "id": "8469abca-a0b4-4cae-9152-bcb358e285ea",
   "metadata": {},
   "source": [
    "It is clear that all columns have some impact on diabetes and thus no column is useless"
   ]
  },
  {
   "cell_type": "markdown",
   "id": "42b41e01-d564-4172-9a2b-a3906bdd1068",
   "metadata": {},
   "source": [
    "Extracting X and Y "
   ]
  },
  {
   "cell_type": "code",
   "execution_count": 29,
   "id": "5fdc4958-bc7c-4c00-b7db-5237b2e50433",
   "metadata": {},
   "outputs": [],
   "source": [
    "X=data.drop(columns=['Outcome'])\n",
    "Y=data['Outcome']"
   ]
  },
  {
   "cell_type": "code",
   "execution_count": 30,
   "id": "7f4cebb0-d90c-4ec6-af05-5f8abdab644d",
   "metadata": {},
   "outputs": [
    {
     "data": {
      "text/html": [
       "<div>\n",
       "<style scoped>\n",
       "    .dataframe tbody tr th:only-of-type {\n",
       "        vertical-align: middle;\n",
       "    }\n",
       "\n",
       "    .dataframe tbody tr th {\n",
       "        vertical-align: top;\n",
       "    }\n",
       "\n",
       "    .dataframe thead th {\n",
       "        text-align: right;\n",
       "    }\n",
       "</style>\n",
       "<table border=\"1\" class=\"dataframe\">\n",
       "  <thead>\n",
       "    <tr style=\"text-align: right;\">\n",
       "      <th></th>\n",
       "      <th>Pregnancies</th>\n",
       "      <th>Glucose</th>\n",
       "      <th>BloodPressure</th>\n",
       "      <th>SkinThickness</th>\n",
       "      <th>Insulin</th>\n",
       "      <th>BMI</th>\n",
       "      <th>DiabetesPedigreeFunction</th>\n",
       "      <th>Age</th>\n",
       "    </tr>\n",
       "  </thead>\n",
       "  <tbody>\n",
       "    <tr>\n",
       "      <th>0</th>\n",
       "      <td>6</td>\n",
       "      <td>148</td>\n",
       "      <td>72</td>\n",
       "      <td>35</td>\n",
       "      <td>0</td>\n",
       "      <td>33.6</td>\n",
       "      <td>0.627</td>\n",
       "      <td>50</td>\n",
       "    </tr>\n",
       "    <tr>\n",
       "      <th>1</th>\n",
       "      <td>1</td>\n",
       "      <td>85</td>\n",
       "      <td>66</td>\n",
       "      <td>29</td>\n",
       "      <td>0</td>\n",
       "      <td>26.6</td>\n",
       "      <td>0.351</td>\n",
       "      <td>31</td>\n",
       "    </tr>\n",
       "    <tr>\n",
       "      <th>2</th>\n",
       "      <td>8</td>\n",
       "      <td>183</td>\n",
       "      <td>64</td>\n",
       "      <td>0</td>\n",
       "      <td>0</td>\n",
       "      <td>23.3</td>\n",
       "      <td>0.672</td>\n",
       "      <td>32</td>\n",
       "    </tr>\n",
       "    <tr>\n",
       "      <th>3</th>\n",
       "      <td>1</td>\n",
       "      <td>89</td>\n",
       "      <td>66</td>\n",
       "      <td>23</td>\n",
       "      <td>94</td>\n",
       "      <td>28.1</td>\n",
       "      <td>0.167</td>\n",
       "      <td>21</td>\n",
       "    </tr>\n",
       "    <tr>\n",
       "      <th>4</th>\n",
       "      <td>0</td>\n",
       "      <td>137</td>\n",
       "      <td>40</td>\n",
       "      <td>35</td>\n",
       "      <td>168</td>\n",
       "      <td>43.1</td>\n",
       "      <td>2.288</td>\n",
       "      <td>33</td>\n",
       "    </tr>\n",
       "    <tr>\n",
       "      <th>...</th>\n",
       "      <td>...</td>\n",
       "      <td>...</td>\n",
       "      <td>...</td>\n",
       "      <td>...</td>\n",
       "      <td>...</td>\n",
       "      <td>...</td>\n",
       "      <td>...</td>\n",
       "      <td>...</td>\n",
       "    </tr>\n",
       "    <tr>\n",
       "      <th>763</th>\n",
       "      <td>10</td>\n",
       "      <td>101</td>\n",
       "      <td>76</td>\n",
       "      <td>48</td>\n",
       "      <td>180</td>\n",
       "      <td>32.9</td>\n",
       "      <td>0.171</td>\n",
       "      <td>63</td>\n",
       "    </tr>\n",
       "    <tr>\n",
       "      <th>764</th>\n",
       "      <td>2</td>\n",
       "      <td>122</td>\n",
       "      <td>70</td>\n",
       "      <td>27</td>\n",
       "      <td>0</td>\n",
       "      <td>36.8</td>\n",
       "      <td>0.340</td>\n",
       "      <td>27</td>\n",
       "    </tr>\n",
       "    <tr>\n",
       "      <th>765</th>\n",
       "      <td>5</td>\n",
       "      <td>121</td>\n",
       "      <td>72</td>\n",
       "      <td>23</td>\n",
       "      <td>112</td>\n",
       "      <td>26.2</td>\n",
       "      <td>0.245</td>\n",
       "      <td>30</td>\n",
       "    </tr>\n",
       "    <tr>\n",
       "      <th>766</th>\n",
       "      <td>1</td>\n",
       "      <td>126</td>\n",
       "      <td>60</td>\n",
       "      <td>0</td>\n",
       "      <td>0</td>\n",
       "      <td>30.1</td>\n",
       "      <td>0.349</td>\n",
       "      <td>47</td>\n",
       "    </tr>\n",
       "    <tr>\n",
       "      <th>767</th>\n",
       "      <td>1</td>\n",
       "      <td>93</td>\n",
       "      <td>70</td>\n",
       "      <td>31</td>\n",
       "      <td>0</td>\n",
       "      <td>30.4</td>\n",
       "      <td>0.315</td>\n",
       "      <td>23</td>\n",
       "    </tr>\n",
       "  </tbody>\n",
       "</table>\n",
       "<p>768 rows × 8 columns</p>\n",
       "</div>"
      ],
      "text/plain": [
       "     Pregnancies  Glucose  BloodPressure  SkinThickness  Insulin   BMI  \\\n",
       "0              6      148             72             35        0  33.6   \n",
       "1              1       85             66             29        0  26.6   \n",
       "2              8      183             64              0        0  23.3   \n",
       "3              1       89             66             23       94  28.1   \n",
       "4              0      137             40             35      168  43.1   \n",
       "..           ...      ...            ...            ...      ...   ...   \n",
       "763           10      101             76             48      180  32.9   \n",
       "764            2      122             70             27        0  36.8   \n",
       "765            5      121             72             23      112  26.2   \n",
       "766            1      126             60              0        0  30.1   \n",
       "767            1       93             70             31        0  30.4   \n",
       "\n",
       "     DiabetesPedigreeFunction  Age  \n",
       "0                       0.627   50  \n",
       "1                       0.351   31  \n",
       "2                       0.672   32  \n",
       "3                       0.167   21  \n",
       "4                       2.288   33  \n",
       "..                        ...  ...  \n",
       "763                     0.171   63  \n",
       "764                     0.340   27  \n",
       "765                     0.245   30  \n",
       "766                     0.349   47  \n",
       "767                     0.315   23  \n",
       "\n",
       "[768 rows x 8 columns]"
      ]
     },
     "execution_count": 30,
     "metadata": {},
     "output_type": "execute_result"
    }
   ],
   "source": [
    "X"
   ]
  },
  {
   "cell_type": "code",
   "execution_count": 31,
   "id": "be486b45-0262-4156-82a9-406614b0e61c",
   "metadata": {},
   "outputs": [
    {
     "data": {
      "text/plain": [
       "0      1\n",
       "1      0\n",
       "2      1\n",
       "3      0\n",
       "4      1\n",
       "      ..\n",
       "763    0\n",
       "764    0\n",
       "765    0\n",
       "766    1\n",
       "767    0\n",
       "Name: Outcome, Length: 768, dtype: int64"
      ]
     },
     "execution_count": 31,
     "metadata": {},
     "output_type": "execute_result"
    }
   ],
   "source": [
    "Y"
   ]
  },
  {
   "cell_type": "markdown",
   "id": "176c5aa3-9eeb-48c1-90c6-ca23849c5cdc",
   "metadata": {},
   "source": [
    "Standardising the data"
   ]
  },
  {
   "cell_type": "code",
   "execution_count": 32,
   "id": "cd10c3f0-e2d9-49e0-a5a8-db2229e3f5d5",
   "metadata": {},
   "outputs": [],
   "source": [
    "from sklearn.preprocessing import StandardScaler\n",
    "from sklearn.model_selection import train_test_split"
   ]
  },
  {
   "cell_type": "code",
   "execution_count": 33,
   "id": "0b6d9284-a766-4692-9484-1865f8474a32",
   "metadata": {},
   "outputs": [],
   "source": [
    "X_train,X_test,Y_train,Y_test=train_test_split(X,Y,test_size=0.2,random_state=2)"
   ]
  },
  {
   "cell_type": "code",
   "execution_count": 34,
   "id": "df3656fa-e5ac-43e4-8084-76efc701208d",
   "metadata": {},
   "outputs": [],
   "source": [
    "sc=StandardScaler()"
   ]
  },
  {
   "cell_type": "code",
   "execution_count": 35,
   "id": "c0c90410-e809-4c73-954f-ef7ae723a83b",
   "metadata": {},
   "outputs": [
    {
     "data": {
      "text/html": [
       "<style>#sk-container-id-1 {\n",
       "  /* Definition of color scheme common for light and dark mode */\n",
       "  --sklearn-color-text: #000;\n",
       "  --sklearn-color-text-muted: #666;\n",
       "  --sklearn-color-line: gray;\n",
       "  /* Definition of color scheme for unfitted estimators */\n",
       "  --sklearn-color-unfitted-level-0: #fff5e6;\n",
       "  --sklearn-color-unfitted-level-1: #f6e4d2;\n",
       "  --sklearn-color-unfitted-level-2: #ffe0b3;\n",
       "  --sklearn-color-unfitted-level-3: chocolate;\n",
       "  /* Definition of color scheme for fitted estimators */\n",
       "  --sklearn-color-fitted-level-0: #f0f8ff;\n",
       "  --sklearn-color-fitted-level-1: #d4ebff;\n",
       "  --sklearn-color-fitted-level-2: #b3dbfd;\n",
       "  --sklearn-color-fitted-level-3: cornflowerblue;\n",
       "\n",
       "  /* Specific color for light theme */\n",
       "  --sklearn-color-text-on-default-background: var(--sg-text-color, var(--theme-code-foreground, var(--jp-content-font-color1, black)));\n",
       "  --sklearn-color-background: var(--sg-background-color, var(--theme-background, var(--jp-layout-color0, white)));\n",
       "  --sklearn-color-border-box: var(--sg-text-color, var(--theme-code-foreground, var(--jp-content-font-color1, black)));\n",
       "  --sklearn-color-icon: #696969;\n",
       "\n",
       "  @media (prefers-color-scheme: dark) {\n",
       "    /* Redefinition of color scheme for dark theme */\n",
       "    --sklearn-color-text-on-default-background: var(--sg-text-color, var(--theme-code-foreground, var(--jp-content-font-color1, white)));\n",
       "    --sklearn-color-background: var(--sg-background-color, var(--theme-background, var(--jp-layout-color0, #111)));\n",
       "    --sklearn-color-border-box: var(--sg-text-color, var(--theme-code-foreground, var(--jp-content-font-color1, white)));\n",
       "    --sklearn-color-icon: #878787;\n",
       "  }\n",
       "}\n",
       "\n",
       "#sk-container-id-1 {\n",
       "  color: var(--sklearn-color-text);\n",
       "}\n",
       "\n",
       "#sk-container-id-1 pre {\n",
       "  padding: 0;\n",
       "}\n",
       "\n",
       "#sk-container-id-1 input.sk-hidden--visually {\n",
       "  border: 0;\n",
       "  clip: rect(1px 1px 1px 1px);\n",
       "  clip: rect(1px, 1px, 1px, 1px);\n",
       "  height: 1px;\n",
       "  margin: -1px;\n",
       "  overflow: hidden;\n",
       "  padding: 0;\n",
       "  position: absolute;\n",
       "  width: 1px;\n",
       "}\n",
       "\n",
       "#sk-container-id-1 div.sk-dashed-wrapped {\n",
       "  border: 1px dashed var(--sklearn-color-line);\n",
       "  margin: 0 0.4em 0.5em 0.4em;\n",
       "  box-sizing: border-box;\n",
       "  padding-bottom: 0.4em;\n",
       "  background-color: var(--sklearn-color-background);\n",
       "}\n",
       "\n",
       "#sk-container-id-1 div.sk-container {\n",
       "  /* jupyter's `normalize.less` sets `[hidden] { display: none; }`\n",
       "     but bootstrap.min.css set `[hidden] { display: none !important; }`\n",
       "     so we also need the `!important` here to be able to override the\n",
       "     default hidden behavior on the sphinx rendered scikit-learn.org.\n",
       "     See: https://github.com/scikit-learn/scikit-learn/issues/21755 */\n",
       "  display: inline-block !important;\n",
       "  position: relative;\n",
       "}\n",
       "\n",
       "#sk-container-id-1 div.sk-text-repr-fallback {\n",
       "  display: none;\n",
       "}\n",
       "\n",
       "div.sk-parallel-item,\n",
       "div.sk-serial,\n",
       "div.sk-item {\n",
       "  /* draw centered vertical line to link estimators */\n",
       "  background-image: linear-gradient(var(--sklearn-color-text-on-default-background), var(--sklearn-color-text-on-default-background));\n",
       "  background-size: 2px 100%;\n",
       "  background-repeat: no-repeat;\n",
       "  background-position: center center;\n",
       "}\n",
       "\n",
       "/* Parallel-specific style estimator block */\n",
       "\n",
       "#sk-container-id-1 div.sk-parallel-item::after {\n",
       "  content: \"\";\n",
       "  width: 100%;\n",
       "  border-bottom: 2px solid var(--sklearn-color-text-on-default-background);\n",
       "  flex-grow: 1;\n",
       "}\n",
       "\n",
       "#sk-container-id-1 div.sk-parallel {\n",
       "  display: flex;\n",
       "  align-items: stretch;\n",
       "  justify-content: center;\n",
       "  background-color: var(--sklearn-color-background);\n",
       "  position: relative;\n",
       "}\n",
       "\n",
       "#sk-container-id-1 div.sk-parallel-item {\n",
       "  display: flex;\n",
       "  flex-direction: column;\n",
       "}\n",
       "\n",
       "#sk-container-id-1 div.sk-parallel-item:first-child::after {\n",
       "  align-self: flex-end;\n",
       "  width: 50%;\n",
       "}\n",
       "\n",
       "#sk-container-id-1 div.sk-parallel-item:last-child::after {\n",
       "  align-self: flex-start;\n",
       "  width: 50%;\n",
       "}\n",
       "\n",
       "#sk-container-id-1 div.sk-parallel-item:only-child::after {\n",
       "  width: 0;\n",
       "}\n",
       "\n",
       "/* Serial-specific style estimator block */\n",
       "\n",
       "#sk-container-id-1 div.sk-serial {\n",
       "  display: flex;\n",
       "  flex-direction: column;\n",
       "  align-items: center;\n",
       "  background-color: var(--sklearn-color-background);\n",
       "  padding-right: 1em;\n",
       "  padding-left: 1em;\n",
       "}\n",
       "\n",
       "\n",
       "/* Toggleable style: style used for estimator/Pipeline/ColumnTransformer box that is\n",
       "clickable and can be expanded/collapsed.\n",
       "- Pipeline and ColumnTransformer use this feature and define the default style\n",
       "- Estimators will overwrite some part of the style using the `sk-estimator` class\n",
       "*/\n",
       "\n",
       "/* Pipeline and ColumnTransformer style (default) */\n",
       "\n",
       "#sk-container-id-1 div.sk-toggleable {\n",
       "  /* Default theme specific background. It is overwritten whether we have a\n",
       "  specific estimator or a Pipeline/ColumnTransformer */\n",
       "  background-color: var(--sklearn-color-background);\n",
       "}\n",
       "\n",
       "/* Toggleable label */\n",
       "#sk-container-id-1 label.sk-toggleable__label {\n",
       "  cursor: pointer;\n",
       "  display: flex;\n",
       "  width: 100%;\n",
       "  margin-bottom: 0;\n",
       "  padding: 0.5em;\n",
       "  box-sizing: border-box;\n",
       "  text-align: center;\n",
       "  align-items: start;\n",
       "  justify-content: space-between;\n",
       "  gap: 0.5em;\n",
       "}\n",
       "\n",
       "#sk-container-id-1 label.sk-toggleable__label .caption {\n",
       "  font-size: 0.6rem;\n",
       "  font-weight: lighter;\n",
       "  color: var(--sklearn-color-text-muted);\n",
       "}\n",
       "\n",
       "#sk-container-id-1 label.sk-toggleable__label-arrow:before {\n",
       "  /* Arrow on the left of the label */\n",
       "  content: \"▸\";\n",
       "  float: left;\n",
       "  margin-right: 0.25em;\n",
       "  color: var(--sklearn-color-icon);\n",
       "}\n",
       "\n",
       "#sk-container-id-1 label.sk-toggleable__label-arrow:hover:before {\n",
       "  color: var(--sklearn-color-text);\n",
       "}\n",
       "\n",
       "/* Toggleable content - dropdown */\n",
       "\n",
       "#sk-container-id-1 div.sk-toggleable__content {\n",
       "  max-height: 0;\n",
       "  max-width: 0;\n",
       "  overflow: hidden;\n",
       "  text-align: left;\n",
       "  /* unfitted */\n",
       "  background-color: var(--sklearn-color-unfitted-level-0);\n",
       "}\n",
       "\n",
       "#sk-container-id-1 div.sk-toggleable__content.fitted {\n",
       "  /* fitted */\n",
       "  background-color: var(--sklearn-color-fitted-level-0);\n",
       "}\n",
       "\n",
       "#sk-container-id-1 div.sk-toggleable__content pre {\n",
       "  margin: 0.2em;\n",
       "  border-radius: 0.25em;\n",
       "  color: var(--sklearn-color-text);\n",
       "  /* unfitted */\n",
       "  background-color: var(--sklearn-color-unfitted-level-0);\n",
       "}\n",
       "\n",
       "#sk-container-id-1 div.sk-toggleable__content.fitted pre {\n",
       "  /* unfitted */\n",
       "  background-color: var(--sklearn-color-fitted-level-0);\n",
       "}\n",
       "\n",
       "#sk-container-id-1 input.sk-toggleable__control:checked~div.sk-toggleable__content {\n",
       "  /* Expand drop-down */\n",
       "  max-height: 200px;\n",
       "  max-width: 100%;\n",
       "  overflow: auto;\n",
       "}\n",
       "\n",
       "#sk-container-id-1 input.sk-toggleable__control:checked~label.sk-toggleable__label-arrow:before {\n",
       "  content: \"▾\";\n",
       "}\n",
       "\n",
       "/* Pipeline/ColumnTransformer-specific style */\n",
       "\n",
       "#sk-container-id-1 div.sk-label input.sk-toggleable__control:checked~label.sk-toggleable__label {\n",
       "  color: var(--sklearn-color-text);\n",
       "  background-color: var(--sklearn-color-unfitted-level-2);\n",
       "}\n",
       "\n",
       "#sk-container-id-1 div.sk-label.fitted input.sk-toggleable__control:checked~label.sk-toggleable__label {\n",
       "  background-color: var(--sklearn-color-fitted-level-2);\n",
       "}\n",
       "\n",
       "/* Estimator-specific style */\n",
       "\n",
       "/* Colorize estimator box */\n",
       "#sk-container-id-1 div.sk-estimator input.sk-toggleable__control:checked~label.sk-toggleable__label {\n",
       "  /* unfitted */\n",
       "  background-color: var(--sklearn-color-unfitted-level-2);\n",
       "}\n",
       "\n",
       "#sk-container-id-1 div.sk-estimator.fitted input.sk-toggleable__control:checked~label.sk-toggleable__label {\n",
       "  /* fitted */\n",
       "  background-color: var(--sklearn-color-fitted-level-2);\n",
       "}\n",
       "\n",
       "#sk-container-id-1 div.sk-label label.sk-toggleable__label,\n",
       "#sk-container-id-1 div.sk-label label {\n",
       "  /* The background is the default theme color */\n",
       "  color: var(--sklearn-color-text-on-default-background);\n",
       "}\n",
       "\n",
       "/* On hover, darken the color of the background */\n",
       "#sk-container-id-1 div.sk-label:hover label.sk-toggleable__label {\n",
       "  color: var(--sklearn-color-text);\n",
       "  background-color: var(--sklearn-color-unfitted-level-2);\n",
       "}\n",
       "\n",
       "/* Label box, darken color on hover, fitted */\n",
       "#sk-container-id-1 div.sk-label.fitted:hover label.sk-toggleable__label.fitted {\n",
       "  color: var(--sklearn-color-text);\n",
       "  background-color: var(--sklearn-color-fitted-level-2);\n",
       "}\n",
       "\n",
       "/* Estimator label */\n",
       "\n",
       "#sk-container-id-1 div.sk-label label {\n",
       "  font-family: monospace;\n",
       "  font-weight: bold;\n",
       "  display: inline-block;\n",
       "  line-height: 1.2em;\n",
       "}\n",
       "\n",
       "#sk-container-id-1 div.sk-label-container {\n",
       "  text-align: center;\n",
       "}\n",
       "\n",
       "/* Estimator-specific */\n",
       "#sk-container-id-1 div.sk-estimator {\n",
       "  font-family: monospace;\n",
       "  border: 1px dotted var(--sklearn-color-border-box);\n",
       "  border-radius: 0.25em;\n",
       "  box-sizing: border-box;\n",
       "  margin-bottom: 0.5em;\n",
       "  /* unfitted */\n",
       "  background-color: var(--sklearn-color-unfitted-level-0);\n",
       "}\n",
       "\n",
       "#sk-container-id-1 div.sk-estimator.fitted {\n",
       "  /* fitted */\n",
       "  background-color: var(--sklearn-color-fitted-level-0);\n",
       "}\n",
       "\n",
       "/* on hover */\n",
       "#sk-container-id-1 div.sk-estimator:hover {\n",
       "  /* unfitted */\n",
       "  background-color: var(--sklearn-color-unfitted-level-2);\n",
       "}\n",
       "\n",
       "#sk-container-id-1 div.sk-estimator.fitted:hover {\n",
       "  /* fitted */\n",
       "  background-color: var(--sklearn-color-fitted-level-2);\n",
       "}\n",
       "\n",
       "/* Specification for estimator info (e.g. \"i\" and \"?\") */\n",
       "\n",
       "/* Common style for \"i\" and \"?\" */\n",
       "\n",
       ".sk-estimator-doc-link,\n",
       "a:link.sk-estimator-doc-link,\n",
       "a:visited.sk-estimator-doc-link {\n",
       "  float: right;\n",
       "  font-size: smaller;\n",
       "  line-height: 1em;\n",
       "  font-family: monospace;\n",
       "  background-color: var(--sklearn-color-background);\n",
       "  border-radius: 1em;\n",
       "  height: 1em;\n",
       "  width: 1em;\n",
       "  text-decoration: none !important;\n",
       "  margin-left: 0.5em;\n",
       "  text-align: center;\n",
       "  /* unfitted */\n",
       "  border: var(--sklearn-color-unfitted-level-1) 1pt solid;\n",
       "  color: var(--sklearn-color-unfitted-level-1);\n",
       "}\n",
       "\n",
       ".sk-estimator-doc-link.fitted,\n",
       "a:link.sk-estimator-doc-link.fitted,\n",
       "a:visited.sk-estimator-doc-link.fitted {\n",
       "  /* fitted */\n",
       "  border: var(--sklearn-color-fitted-level-1) 1pt solid;\n",
       "  color: var(--sklearn-color-fitted-level-1);\n",
       "}\n",
       "\n",
       "/* On hover */\n",
       "div.sk-estimator:hover .sk-estimator-doc-link:hover,\n",
       ".sk-estimator-doc-link:hover,\n",
       "div.sk-label-container:hover .sk-estimator-doc-link:hover,\n",
       ".sk-estimator-doc-link:hover {\n",
       "  /* unfitted */\n",
       "  background-color: var(--sklearn-color-unfitted-level-3);\n",
       "  color: var(--sklearn-color-background);\n",
       "  text-decoration: none;\n",
       "}\n",
       "\n",
       "div.sk-estimator.fitted:hover .sk-estimator-doc-link.fitted:hover,\n",
       ".sk-estimator-doc-link.fitted:hover,\n",
       "div.sk-label-container:hover .sk-estimator-doc-link.fitted:hover,\n",
       ".sk-estimator-doc-link.fitted:hover {\n",
       "  /* fitted */\n",
       "  background-color: var(--sklearn-color-fitted-level-3);\n",
       "  color: var(--sklearn-color-background);\n",
       "  text-decoration: none;\n",
       "}\n",
       "\n",
       "/* Span, style for the box shown on hovering the info icon */\n",
       ".sk-estimator-doc-link span {\n",
       "  display: none;\n",
       "  z-index: 9999;\n",
       "  position: relative;\n",
       "  font-weight: normal;\n",
       "  right: .2ex;\n",
       "  padding: .5ex;\n",
       "  margin: .5ex;\n",
       "  width: min-content;\n",
       "  min-width: 20ex;\n",
       "  max-width: 50ex;\n",
       "  color: var(--sklearn-color-text);\n",
       "  box-shadow: 2pt 2pt 4pt #999;\n",
       "  /* unfitted */\n",
       "  background: var(--sklearn-color-unfitted-level-0);\n",
       "  border: .5pt solid var(--sklearn-color-unfitted-level-3);\n",
       "}\n",
       "\n",
       ".sk-estimator-doc-link.fitted span {\n",
       "  /* fitted */\n",
       "  background: var(--sklearn-color-fitted-level-0);\n",
       "  border: var(--sklearn-color-fitted-level-3);\n",
       "}\n",
       "\n",
       ".sk-estimator-doc-link:hover span {\n",
       "  display: block;\n",
       "}\n",
       "\n",
       "/* \"?\"-specific style due to the `<a>` HTML tag */\n",
       "\n",
       "#sk-container-id-1 a.estimator_doc_link {\n",
       "  float: right;\n",
       "  font-size: 1rem;\n",
       "  line-height: 1em;\n",
       "  font-family: monospace;\n",
       "  background-color: var(--sklearn-color-background);\n",
       "  border-radius: 1rem;\n",
       "  height: 1rem;\n",
       "  width: 1rem;\n",
       "  text-decoration: none;\n",
       "  /* unfitted */\n",
       "  color: var(--sklearn-color-unfitted-level-1);\n",
       "  border: var(--sklearn-color-unfitted-level-1) 1pt solid;\n",
       "}\n",
       "\n",
       "#sk-container-id-1 a.estimator_doc_link.fitted {\n",
       "  /* fitted */\n",
       "  border: var(--sklearn-color-fitted-level-1) 1pt solid;\n",
       "  color: var(--sklearn-color-fitted-level-1);\n",
       "}\n",
       "\n",
       "/* On hover */\n",
       "#sk-container-id-1 a.estimator_doc_link:hover {\n",
       "  /* unfitted */\n",
       "  background-color: var(--sklearn-color-unfitted-level-3);\n",
       "  color: var(--sklearn-color-background);\n",
       "  text-decoration: none;\n",
       "}\n",
       "\n",
       "#sk-container-id-1 a.estimator_doc_link.fitted:hover {\n",
       "  /* fitted */\n",
       "  background-color: var(--sklearn-color-fitted-level-3);\n",
       "}\n",
       "</style><div id=\"sk-container-id-1\" class=\"sk-top-container\"><div class=\"sk-text-repr-fallback\"><pre>StandardScaler()</pre><b>In a Jupyter environment, please rerun this cell to show the HTML representation or trust the notebook. <br />On GitHub, the HTML representation is unable to render, please try loading this page with nbviewer.org.</b></div><div class=\"sk-container\" hidden><div class=\"sk-item\"><div class=\"sk-estimator fitted sk-toggleable\"><input class=\"sk-toggleable__control sk-hidden--visually\" id=\"sk-estimator-id-1\" type=\"checkbox\" checked><label for=\"sk-estimator-id-1\" class=\"sk-toggleable__label fitted sk-toggleable__label-arrow\"><div><div>StandardScaler</div></div><div><a class=\"sk-estimator-doc-link fitted\" rel=\"noreferrer\" target=\"_blank\" href=\"https://scikit-learn.org/1.6/modules/generated/sklearn.preprocessing.StandardScaler.html\">?<span>Documentation for StandardScaler</span></a><span class=\"sk-estimator-doc-link fitted\">i<span>Fitted</span></span></div></label><div class=\"sk-toggleable__content fitted\"><pre>StandardScaler()</pre></div> </div></div></div></div>"
      ],
      "text/plain": [
       "StandardScaler()"
      ]
     },
     "execution_count": 35,
     "metadata": {},
     "output_type": "execute_result"
    }
   ],
   "source": [
    "sc.fit(X_train)"
   ]
  },
  {
   "cell_type": "code",
   "execution_count": 36,
   "id": "202059b9-d1bb-427c-8a7c-850d49ecafcc",
   "metadata": {},
   "outputs": [],
   "source": [
    "X_train_st=sc.transform(X_train)\n",
    "X_test_st=sc.transform(X_test)"
   ]
  },
  {
   "cell_type": "code",
   "execution_count": 37,
   "id": "ffff0481-5370-4cfd-882e-2eb20b34e847",
   "metadata": {},
   "outputs": [],
   "source": [
    "X_train_st=pd.DataFrame(X_train_st,columns=X_train.columns)\n",
    "X_test_st=pd.DataFrame(X_test_st,columns=X_test.columns)"
   ]
  },
  {
   "cell_type": "code",
   "execution_count": 38,
   "id": "47dcad1b-fa65-45db-920d-ea351e021198",
   "metadata": {},
   "outputs": [
    {
     "data": {
      "text/html": [
       "<div>\n",
       "<style scoped>\n",
       "    .dataframe tbody tr th:only-of-type {\n",
       "        vertical-align: middle;\n",
       "    }\n",
       "\n",
       "    .dataframe tbody tr th {\n",
       "        vertical-align: top;\n",
       "    }\n",
       "\n",
       "    .dataframe thead th {\n",
       "        text-align: right;\n",
       "    }\n",
       "</style>\n",
       "<table border=\"1\" class=\"dataframe\">\n",
       "  <thead>\n",
       "    <tr style=\"text-align: right;\">\n",
       "      <th></th>\n",
       "      <th>Pregnancies</th>\n",
       "      <th>Glucose</th>\n",
       "      <th>BloodPressure</th>\n",
       "      <th>SkinThickness</th>\n",
       "      <th>Insulin</th>\n",
       "      <th>BMI</th>\n",
       "      <th>DiabetesPedigreeFunction</th>\n",
       "      <th>Age</th>\n",
       "    </tr>\n",
       "  </thead>\n",
       "  <tbody>\n",
       "    <tr>\n",
       "      <th>0</th>\n",
       "      <td>-0.858118</td>\n",
       "      <td>0.064884</td>\n",
       "      <td>0.253321</td>\n",
       "      <td>0.972963</td>\n",
       "      <td>-0.683325</td>\n",
       "      <td>-0.513137</td>\n",
       "      <td>-1.103169</td>\n",
       "      <td>-0.277042</td>\n",
       "    </tr>\n",
       "    <tr>\n",
       "      <th>1</th>\n",
       "      <td>-0.858118</td>\n",
       "      <td>-0.846972</td>\n",
       "      <td>0.663580</td>\n",
       "      <td>0.293047</td>\n",
       "      <td>0.815763</td>\n",
       "      <td>0.408109</td>\n",
       "      <td>-0.712386</td>\n",
       "      <td>0.843762</td>\n",
       "    </tr>\n",
       "    <tr>\n",
       "      <th>2</th>\n",
       "      <td>-1.154120</td>\n",
       "      <td>-0.878416</td>\n",
       "      <td>0.048192</td>\n",
       "      <td>0.416668</td>\n",
       "      <td>0.274426</td>\n",
       "      <td>1.495692</td>\n",
       "      <td>-0.377428</td>\n",
       "      <td>-1.052982</td>\n",
       "    </tr>\n",
       "    <tr>\n",
       "      <th>3</th>\n",
       "      <td>0.917897</td>\n",
       "      <td>1.951483</td>\n",
       "      <td>0.766145</td>\n",
       "      <td>0.787531</td>\n",
       "      <td>-0.683325</td>\n",
       "      <td>0.472085</td>\n",
       "      <td>-0.353922</td>\n",
       "      <td>0.671331</td>\n",
       "    </tr>\n",
       "    <tr>\n",
       "      <th>4</th>\n",
       "      <td>-1.154120</td>\n",
       "      <td>-1.538726</td>\n",
       "      <td>-3.541573</td>\n",
       "      <td>-1.252218</td>\n",
       "      <td>-0.683325</td>\n",
       "      <td>-1.370409</td>\n",
       "      <td>-0.392119</td>\n",
       "      <td>-0.708120</td>\n",
       "    </tr>\n",
       "    <tr>\n",
       "      <th>...</th>\n",
       "      <td>...</td>\n",
       "      <td>...</td>\n",
       "      <td>...</td>\n",
       "      <td>...</td>\n",
       "      <td>...</td>\n",
       "      <td>...</td>\n",
       "      <td>...</td>\n",
       "      <td>...</td>\n",
       "    </tr>\n",
       "    <tr>\n",
       "      <th>609</th>\n",
       "      <td>-0.858118</td>\n",
       "      <td>-1.412952</td>\n",
       "      <td>-0.669761</td>\n",
       "      <td>0.602100</td>\n",
       "      <td>-0.216942</td>\n",
       "      <td>0.190593</td>\n",
       "      <td>2.278727</td>\n",
       "      <td>-0.794335</td>\n",
       "    </tr>\n",
       "    <tr>\n",
       "      <th>610</th>\n",
       "      <td>1.213899</td>\n",
       "      <td>0.064884</td>\n",
       "      <td>0.355886</td>\n",
       "      <td>0.231236</td>\n",
       "      <td>4.313635</td>\n",
       "      <td>-0.397982</td>\n",
       "      <td>0.621569</td>\n",
       "      <td>1.619703</td>\n",
       "    </tr>\n",
       "    <tr>\n",
       "      <th>611</th>\n",
       "      <td>0.029889</td>\n",
       "      <td>0.096327</td>\n",
       "      <td>0.048192</td>\n",
       "      <td>-0.139628</td>\n",
       "      <td>0.332724</td>\n",
       "      <td>-0.372391</td>\n",
       "      <td>1.964337</td>\n",
       "      <td>1.016193</td>\n",
       "    </tr>\n",
       "    <tr>\n",
       "      <th>612</th>\n",
       "      <td>-0.266113</td>\n",
       "      <td>-0.186663</td>\n",
       "      <td>0.253321</td>\n",
       "      <td>-0.325059</td>\n",
       "      <td>0.191143</td>\n",
       "      <td>-0.705064</td>\n",
       "      <td>-1.082602</td>\n",
       "      <td>-0.794335</td>\n",
       "    </tr>\n",
       "    <tr>\n",
       "      <th>613</th>\n",
       "      <td>0.029889</td>\n",
       "      <td>-0.375323</td>\n",
       "      <td>-0.156937</td>\n",
       "      <td>-1.252218</td>\n",
       "      <td>-0.683325</td>\n",
       "      <td>0.011461</td>\n",
       "      <td>-0.013088</td>\n",
       "      <td>-0.363257</td>\n",
       "    </tr>\n",
       "  </tbody>\n",
       "</table>\n",
       "<p>614 rows × 8 columns</p>\n",
       "</div>"
      ],
      "text/plain": [
       "     Pregnancies   Glucose  BloodPressure  SkinThickness   Insulin       BMI  \\\n",
       "0      -0.858118  0.064884       0.253321       0.972963 -0.683325 -0.513137   \n",
       "1      -0.858118 -0.846972       0.663580       0.293047  0.815763  0.408109   \n",
       "2      -1.154120 -0.878416       0.048192       0.416668  0.274426  1.495692   \n",
       "3       0.917897  1.951483       0.766145       0.787531 -0.683325  0.472085   \n",
       "4      -1.154120 -1.538726      -3.541573      -1.252218 -0.683325 -1.370409   \n",
       "..           ...       ...            ...            ...       ...       ...   \n",
       "609    -0.858118 -1.412952      -0.669761       0.602100 -0.216942  0.190593   \n",
       "610     1.213899  0.064884       0.355886       0.231236  4.313635 -0.397982   \n",
       "611     0.029889  0.096327       0.048192      -0.139628  0.332724 -0.372391   \n",
       "612    -0.266113 -0.186663       0.253321      -0.325059  0.191143 -0.705064   \n",
       "613     0.029889 -0.375323      -0.156937      -1.252218 -0.683325  0.011461   \n",
       "\n",
       "     DiabetesPedigreeFunction       Age  \n",
       "0                   -1.103169 -0.277042  \n",
       "1                   -0.712386  0.843762  \n",
       "2                   -0.377428 -1.052982  \n",
       "3                   -0.353922  0.671331  \n",
       "4                   -0.392119 -0.708120  \n",
       "..                        ...       ...  \n",
       "609                  2.278727 -0.794335  \n",
       "610                  0.621569  1.619703  \n",
       "611                  1.964337  1.016193  \n",
       "612                 -1.082602 -0.794335  \n",
       "613                 -0.013088 -0.363257  \n",
       "\n",
       "[614 rows x 8 columns]"
      ]
     },
     "execution_count": 38,
     "metadata": {},
     "output_type": "execute_result"
    }
   ],
   "source": [
    "X_train_st"
   ]
  },
  {
   "cell_type": "code",
   "execution_count": 39,
   "id": "efdc8adf-b79d-48f6-8e5e-599a2db95b66",
   "metadata": {},
   "outputs": [
    {
     "data": {
      "text/html": [
       "<div>\n",
       "<style scoped>\n",
       "    .dataframe tbody tr th:only-of-type {\n",
       "        vertical-align: middle;\n",
       "    }\n",
       "\n",
       "    .dataframe tbody tr th {\n",
       "        vertical-align: top;\n",
       "    }\n",
       "\n",
       "    .dataframe thead th {\n",
       "        text-align: right;\n",
       "    }\n",
       "</style>\n",
       "<table border=\"1\" class=\"dataframe\">\n",
       "  <thead>\n",
       "    <tr style=\"text-align: right;\">\n",
       "      <th></th>\n",
       "      <th>Pregnancies</th>\n",
       "      <th>Glucose</th>\n",
       "      <th>BloodPressure</th>\n",
       "      <th>SkinThickness</th>\n",
       "      <th>Insulin</th>\n",
       "      <th>BMI</th>\n",
       "      <th>DiabetesPedigreeFunction</th>\n",
       "      <th>Age</th>\n",
       "    </tr>\n",
       "  </thead>\n",
       "  <tbody>\n",
       "    <tr>\n",
       "      <th>0</th>\n",
       "      <td>-0.562115</td>\n",
       "      <td>-1.067076</td>\n",
       "      <td>0.253321</td>\n",
       "      <td>-0.077817</td>\n",
       "      <td>-0.241927</td>\n",
       "      <td>-0.359596</td>\n",
       "      <td>-0.724138</td>\n",
       "      <td>-0.966767</td>\n",
       "    </tr>\n",
       "    <tr>\n",
       "      <th>1</th>\n",
       "      <td>-0.562115</td>\n",
       "      <td>0.222100</td>\n",
       "      <td>0.766145</td>\n",
       "      <td>-1.252218</td>\n",
       "      <td>-0.683325</td>\n",
       "      <td>-0.487547</td>\n",
       "      <td>-0.562536</td>\n",
       "      <td>-0.535688</td>\n",
       "    </tr>\n",
       "    <tr>\n",
       "      <th>2</th>\n",
       "      <td>-1.154120</td>\n",
       "      <td>-0.626869</td>\n",
       "      <td>0.458451</td>\n",
       "      <td>1.220206</td>\n",
       "      <td>0.066219</td>\n",
       "      <td>0.344134</td>\n",
       "      <td>-0.697694</td>\n",
       "      <td>-0.794335</td>\n",
       "    </tr>\n",
       "    <tr>\n",
       "      <th>3</th>\n",
       "      <td>-1.154120</td>\n",
       "      <td>0.033441</td>\n",
       "      <td>0.150757</td>\n",
       "      <td>-1.252218</td>\n",
       "      <td>-0.683325</td>\n",
       "      <td>0.574446</td>\n",
       "      <td>-0.638930</td>\n",
       "      <td>1.619703</td>\n",
       "    </tr>\n",
       "    <tr>\n",
       "      <th>4</th>\n",
       "      <td>-0.858118</td>\n",
       "      <td>0.693750</td>\n",
       "      <td>0.663580</td>\n",
       "      <td>1.591069</td>\n",
       "      <td>0.815763</td>\n",
       "      <td>1.828365</td>\n",
       "      <td>-0.412687</td>\n",
       "      <td>1.102409</td>\n",
       "    </tr>\n",
       "    <tr>\n",
       "      <th>...</th>\n",
       "      <td>...</td>\n",
       "      <td>...</td>\n",
       "      <td>...</td>\n",
       "      <td>...</td>\n",
       "      <td>...</td>\n",
       "      <td>...</td>\n",
       "      <td>...</td>\n",
       "      <td>...</td>\n",
       "    </tr>\n",
       "    <tr>\n",
       "      <th>149</th>\n",
       "      <td>-0.562115</td>\n",
       "      <td>-0.501096</td>\n",
       "      <td>-0.669761</td>\n",
       "      <td>0.416668</td>\n",
       "      <td>0.690839</td>\n",
       "      <td>-0.359596</td>\n",
       "      <td>-0.145308</td>\n",
       "      <td>-0.966767</td>\n",
       "    </tr>\n",
       "    <tr>\n",
       "      <th>150</th>\n",
       "      <td>-0.562115</td>\n",
       "      <td>-1.224292</td>\n",
       "      <td>-0.156937</td>\n",
       "      <td>0.169425</td>\n",
       "      <td>-0.266911</td>\n",
       "      <td>0.049847</td>\n",
       "      <td>0.063306</td>\n",
       "      <td>-0.966767</td>\n",
       "    </tr>\n",
       "    <tr>\n",
       "      <th>151</th>\n",
       "      <td>-1.154120</td>\n",
       "      <td>0.316430</td>\n",
       "      <td>0.458451</td>\n",
       "      <td>-1.252218</td>\n",
       "      <td>-0.683325</td>\n",
       "      <td>0.075437</td>\n",
       "      <td>-0.242270</td>\n",
       "      <td>-1.052982</td>\n",
       "    </tr>\n",
       "    <tr>\n",
       "      <th>152</th>\n",
       "      <td>0.325892</td>\n",
       "      <td>0.473647</td>\n",
       "      <td>1.996921</td>\n",
       "      <td>-1.252218</td>\n",
       "      <td>-0.683325</td>\n",
       "      <td>2.173832</td>\n",
       "      <td>-0.730015</td>\n",
       "      <td>0.326468</td>\n",
       "    </tr>\n",
       "    <tr>\n",
       "      <th>153</th>\n",
       "      <td>-0.858118</td>\n",
       "      <td>-1.538726</td>\n",
       "      <td>-0.977455</td>\n",
       "      <td>-0.634112</td>\n",
       "      <td>-0.683325</td>\n",
       "      <td>-1.127302</td>\n",
       "      <td>-0.668312</td>\n",
       "      <td>-1.052982</td>\n",
       "    </tr>\n",
       "  </tbody>\n",
       "</table>\n",
       "<p>154 rows × 8 columns</p>\n",
       "</div>"
      ],
      "text/plain": [
       "     Pregnancies   Glucose  BloodPressure  SkinThickness   Insulin       BMI  \\\n",
       "0      -0.562115 -1.067076       0.253321      -0.077817 -0.241927 -0.359596   \n",
       "1      -0.562115  0.222100       0.766145      -1.252218 -0.683325 -0.487547   \n",
       "2      -1.154120 -0.626869       0.458451       1.220206  0.066219  0.344134   \n",
       "3      -1.154120  0.033441       0.150757      -1.252218 -0.683325  0.574446   \n",
       "4      -0.858118  0.693750       0.663580       1.591069  0.815763  1.828365   \n",
       "..           ...       ...            ...            ...       ...       ...   \n",
       "149    -0.562115 -0.501096      -0.669761       0.416668  0.690839 -0.359596   \n",
       "150    -0.562115 -1.224292      -0.156937       0.169425 -0.266911  0.049847   \n",
       "151    -1.154120  0.316430       0.458451      -1.252218 -0.683325  0.075437   \n",
       "152     0.325892  0.473647       1.996921      -1.252218 -0.683325  2.173832   \n",
       "153    -0.858118 -1.538726      -0.977455      -0.634112 -0.683325 -1.127302   \n",
       "\n",
       "     DiabetesPedigreeFunction       Age  \n",
       "0                   -0.724138 -0.966767  \n",
       "1                   -0.562536 -0.535688  \n",
       "2                   -0.697694 -0.794335  \n",
       "3                   -0.638930  1.619703  \n",
       "4                   -0.412687  1.102409  \n",
       "..                        ...       ...  \n",
       "149                 -0.145308 -0.966767  \n",
       "150                  0.063306 -0.966767  \n",
       "151                 -0.242270 -1.052982  \n",
       "152                 -0.730015  0.326468  \n",
       "153                 -0.668312 -1.052982  \n",
       "\n",
       "[154 rows x 8 columns]"
      ]
     },
     "execution_count": 39,
     "metadata": {},
     "output_type": "execute_result"
    }
   ],
   "source": [
    "X_test_st"
   ]
  },
  {
   "cell_type": "markdown",
   "id": "7f417c53-ad74-49e3-b3da-c8b41261e7d5",
   "metadata": {},
   "source": [
    "Training Model"
   ]
  },
  {
   "cell_type": "code",
   "execution_count": 40,
   "id": "47289b53-959d-4cea-8084-e5449ac78cf5",
   "metadata": {},
   "outputs": [],
   "source": [
    "import optuna"
   ]
  },
  {
   "cell_type": "code",
   "execution_count": 41,
   "id": "d7036cc7-c051-4c58-aef8-b3694dbad680",
   "metadata": {},
   "outputs": [],
   "source": [
    "from sklearn.ensemble import RandomForestClassifier\n",
    "from sklearn.linear_model import LogisticRegression\n",
    "from xgboost import XGBClassifier\n",
    "from sklearn.tree import DecisionTreeClassifier\n",
    "from sklearn.svm import SVC"
   ]
  },
  {
   "cell_type": "code",
   "execution_count": 42,
   "id": "315b210e-2b4e-4b45-a0ce-57d79eeffa9d",
   "metadata": {},
   "outputs": [],
   "source": [
    "from sklearn.metrics import accuracy_score"
   ]
  },
  {
   "cell_type": "markdown",
   "id": "b0b8ba3a-8195-4f2f-9fe9-ae8d0bb5da74",
   "metadata": {},
   "source": [
    "Defining the objective function for Optuna"
   ]
  },
  {
   "cell_type": "code",
   "execution_count": 43,
   "id": "c0f4e292-7fbb-4953-a6f7-187ce359bdb6",
   "metadata": {},
   "outputs": [],
   "source": [
    "def objective(trial):\n",
    "    \n",
    "    # Choose a model randomly based on Optuna's suggestion\n",
    "    type = trial.suggest_categorical('model_type', ['LogisticRegression', 'RandomForest', 'XGBoost', 'DecisionTree', 'SVM'])\n",
    "    \n",
    "    if type == 'LogisticRegression':\n",
    "        C = trial.suggest_float('C', 1e-5, 100,log=True)\n",
    "        model = LogisticRegression(C=C, max_iter=1000)\n",
    "    \n",
    "    elif type == 'RandomForest':\n",
    "        n_estimators = trial.suggest_int('n_estimators', 10, 200)\n",
    "        max_depth = trial.suggest_int('max_depth', 3, 20)\n",
    "        model = RandomForestClassifier(n_estimators=n_estimators, max_depth=max_depth)\n",
    "    \n",
    "    elif type == 'XGBoost':\n",
    "        max_depth = trial.suggest_int('max_depth', 3, 20)\n",
    "        learning_rate = trial.suggest_float('learning_rate', 1e-5, 0.1,log=True)\n",
    "        n_estimators = trial.suggest_int('n_estimators', 50, 200)\n",
    "        model = XGBClassifier(max_depth=max_depth, learning_rate=learning_rate, n_estimators=n_estimators)\n",
    "    \n",
    "    elif type == 'DecisionTree':\n",
    "        max_depth = trial.suggest_int('max_depth', 3, 20)\n",
    "        min_samples_split = trial.suggest_int('min_samples_split', 2, 10)\n",
    "        model = DecisionTreeClassifier(max_depth=max_depth, min_samples_split=min_samples_split)\n",
    "    \n",
    "    else:  # SVM\n",
    "        C = trial.suggest_float('C', 1e-5, 100,log=True)\n",
    "        kernel = trial.suggest_categorical('kernel', ['linear', 'rbf'])\n",
    "        model = SVC(C=C, kernel=kernel, probability=True)\n",
    "    \n",
    "    # Train the model\n",
    "    model.fit(X_train_st, Y_train)\n",
    "    \n",
    "    # Make predictions\n",
    "    Y_pred = model.predict(X_test_st)\n",
    "    \n",
    "    # Calculate accuracy score\n",
    "    acc = accuracy_score(Y_test, Y_pred)\n",
    "    \n",
    "    # Return the accuracy score (Optuna will try to maximize this value)\n",
    "    return acc \n"
   ]
  },
  {
   "cell_type": "markdown",
   "id": "3cd858a5-3c0d-4f6c-8a24-a55997a54a53",
   "metadata": {},
   "source": [
    "Create an Optuna study"
   ]
  },
  {
   "cell_type": "code",
   "execution_count": 44,
   "id": "740b0a7b-8f14-4289-b164-d5db164605de",
   "metadata": {},
   "outputs": [
    {
     "name": "stderr",
     "output_type": "stream",
     "text": [
      "[I 2025-01-06 21:49:54,570] A new study created in memory with name: no-name-5b5b7c2f-36d5-436e-875b-dce4b22a6e89\n",
      "[I 2025-01-06 21:49:54,588] Trial 0 finished with value: 0.7532467532467533 and parameters: {'model_type': 'DecisionTree', 'max_depth': 15, 'min_samples_split': 3}. Best is trial 0 with value: 0.7532467532467533.\n",
      "[I 2025-01-06 21:49:54,630] Trial 1 finished with value: 0.7077922077922078 and parameters: {'model_type': 'LogisticRegression', 'C': 0.0005071291259758132}. Best is trial 0 with value: 0.7532467532467533.\n",
      "[I 2025-01-06 21:49:54,643] Trial 2 finished with value: 0.7337662337662337 and parameters: {'model_type': 'DecisionTree', 'max_depth': 16, 'min_samples_split': 2}. Best is trial 0 with value: 0.7532467532467533.\n",
      "[I 2025-01-06 21:49:55,591] Trial 3 finished with value: 0.7532467532467533 and parameters: {'model_type': 'SVM', 'C': 41.713283290085315, 'kernel': 'linear'}. Best is trial 0 with value: 0.7532467532467533.\n",
      "[I 2025-01-06 21:49:56,926] Trial 4 finished with value: 0.7467532467532467 and parameters: {'model_type': 'XGBoost', 'max_depth': 18, 'learning_rate': 0.0735422417516994, 'n_estimators': 67}. Best is trial 0 with value: 0.7532467532467533.\n",
      "[I 2025-01-06 21:49:57,100] Trial 5 finished with value: 0.7857142857142857 and parameters: {'model_type': 'RandomForest', 'n_estimators': 42, 'max_depth': 7}. Best is trial 5 with value: 0.7857142857142857.\n",
      "[I 2025-01-06 21:49:57,111] Trial 6 finished with value: 0.7532467532467533 and parameters: {'model_type': 'DecisionTree', 'max_depth': 3, 'min_samples_split': 6}. Best is trial 5 with value: 0.7857142857142857.\n",
      "[I 2025-01-06 21:49:57,258] Trial 7 finished with value: 0.7662337662337663 and parameters: {'model_type': 'RandomForest', 'n_estimators': 35, 'max_depth': 19}. Best is trial 5 with value: 0.7857142857142857.\n",
      "[I 2025-01-06 21:49:57,657] Trial 8 finished with value: 0.7402597402597403 and parameters: {'model_type': 'RandomForest', 'n_estimators': 98, 'max_depth': 18}. Best is trial 5 with value: 0.7857142857142857.\n",
      "[I 2025-01-06 21:49:58,025] Trial 9 finished with value: 0.7597402597402597 and parameters: {'model_type': 'RandomForest', 'n_estimators': 103, 'max_depth': 5}. Best is trial 5 with value: 0.7857142857142857.\n",
      "[I 2025-01-06 21:49:58,050] Trial 10 finished with value: 0.7077922077922078 and parameters: {'model_type': 'LogisticRegression', 'C': 1.864931753153679e-05}. Best is trial 5 with value: 0.7857142857142857.\n",
      "[I 2025-01-06 21:49:58,172] Trial 11 finished with value: 0.7662337662337663 and parameters: {'model_type': 'RandomForest', 'n_estimators': 25, 'max_depth': 9}. Best is trial 5 with value: 0.7857142857142857.\n",
      "[I 2025-01-06 21:49:58,936] Trial 12 finished with value: 0.7922077922077922 and parameters: {'model_type': 'RandomForest', 'n_estimators': 192, 'max_depth': 9}. Best is trial 12 with value: 0.7922077922077922.\n",
      "[I 2025-01-06 21:49:59,732] Trial 13 finished with value: 0.7792207792207793 and parameters: {'model_type': 'RandomForest', 'n_estimators': 198, 'max_depth': 9}. Best is trial 12 with value: 0.7922077922077922.\n",
      "[I 2025-01-06 21:49:59,871] Trial 14 finished with value: 0.7662337662337663 and parameters: {'model_type': 'SVM', 'C': 3.0616647264787473, 'kernel': 'rbf'}. Best is trial 12 with value: 0.7922077922077922.\n",
      "[I 2025-01-06 21:50:00,477] Trial 15 finished with value: 0.7077922077922078 and parameters: {'model_type': 'XGBoost', 'max_depth': 8, 'learning_rate': 1.0489365174231632e-05, 'n_estimators': 179}. Best is trial 12 with value: 0.7922077922077922.\n",
      "[I 2025-01-06 21:50:01,094] Trial 16 finished with value: 0.7467532467532467 and parameters: {'model_type': 'RandomForest', 'n_estimators': 151, 'max_depth': 12}. Best is trial 12 with value: 0.7922077922077922.\n",
      "[I 2025-01-06 21:50:01,637] Trial 17 finished with value: 0.7662337662337663 and parameters: {'model_type': 'RandomForest', 'n_estimators': 145, 'max_depth': 6}. Best is trial 12 with value: 0.7922077922077922.\n",
      "[I 2025-01-06 21:50:01,922] Trial 18 finished with value: 0.7467532467532467 and parameters: {'model_type': 'RandomForest', 'n_estimators': 64, 'max_depth': 12}. Best is trial 12 with value: 0.7922077922077922.\n",
      "[I 2025-01-06 21:50:02,280] Trial 19 finished with value: 0.7077922077922078 and parameters: {'model_type': 'XGBoost', 'max_depth': 6, 'learning_rate': 0.0004683577771429301, 'n_estimators': 127}. Best is trial 12 with value: 0.7922077922077922.\n",
      "[I 2025-01-06 21:50:02,301] Trial 20 finished with value: 0.7662337662337663 and parameters: {'model_type': 'LogisticRegression', 'C': 0.025444203838433793}. Best is trial 12 with value: 0.7922077922077922.\n",
      "[I 2025-01-06 21:50:03,043] Trial 21 finished with value: 0.7402597402597403 and parameters: {'model_type': 'RandomForest', 'n_estimators': 190, 'max_depth': 8}. Best is trial 12 with value: 0.7922077922077922.\n",
      "[I 2025-01-06 21:50:03,826] Trial 22 finished with value: 0.7467532467532467 and parameters: {'model_type': 'RandomForest', 'n_estimators': 196, 'max_depth': 10}. Best is trial 12 with value: 0.7922077922077922.\n",
      "[I 2025-01-06 21:50:04,508] Trial 23 finished with value: 0.7792207792207793 and parameters: {'model_type': 'RandomForest', 'n_estimators': 169, 'max_depth': 11}. Best is trial 12 with value: 0.7922077922077922.\n",
      "[I 2025-01-06 21:50:05,275] Trial 24 finished with value: 0.7597402597402597 and parameters: {'model_type': 'RandomForest', 'n_estimators': 199, 'max_depth': 7}. Best is trial 12 with value: 0.7922077922077922.\n",
      "[I 2025-01-06 21:50:05,543] Trial 25 finished with value: 0.7792207792207793 and parameters: {'model_type': 'RandomForest', 'n_estimators': 73, 'max_depth': 4}. Best is trial 12 with value: 0.7922077922077922.\n",
      "[I 2025-01-06 21:50:05,619] Trial 26 finished with value: 0.7597402597402597 and parameters: {'model_type': 'SVM', 'C': 0.1290181705830848, 'kernel': 'linear'}. Best is trial 12 with value: 0.7922077922077922.\n",
      "[I 2025-01-06 21:50:06,277] Trial 27 finished with value: 0.7532467532467533 and parameters: {'model_type': 'RandomForest', 'n_estimators': 160, 'max_depth': 14}. Best is trial 12 with value: 0.7922077922077922.\n",
      "[I 2025-01-06 21:50:06,784] Trial 28 finished with value: 0.7532467532467533 and parameters: {'model_type': 'RandomForest', 'n_estimators': 126, 'max_depth': 10}. Best is trial 12 with value: 0.7922077922077922.\n",
      "[I 2025-01-06 21:50:06,827] Trial 29 finished with value: 0.7727272727272727 and parameters: {'model_type': 'DecisionTree', 'max_depth': 13, 'min_samples_split': 10}. Best is trial 12 with value: 0.7922077922077922.\n",
      "[I 2025-01-06 21:50:07,409] Trial 30 finished with value: 0.7207792207792207 and parameters: {'model_type': 'XGBoost', 'max_depth': 9, 'learning_rate': 0.04310907871803725, 'n_estimators': 179}. Best is trial 12 with value: 0.7922077922077922.\n",
      "[I 2025-01-06 21:50:08,112] Trial 31 finished with value: 0.7792207792207793 and parameters: {'model_type': 'RandomForest', 'n_estimators': 174, 'max_depth': 11}. Best is trial 12 with value: 0.7922077922077922.\n",
      "[I 2025-01-06 21:50:08,765] Trial 32 finished with value: 0.7402597402597403 and parameters: {'model_type': 'RandomForest', 'n_estimators': 165, 'max_depth': 10}. Best is trial 12 with value: 0.7922077922077922.\n",
      "[I 2025-01-06 21:50:08,786] Trial 33 finished with value: 0.7597402597402597 and parameters: {'model_type': 'LogisticRegression', 'C': 0.0026302975033388083}. Best is trial 12 with value: 0.7922077922077922.\n",
      "[I 2025-01-06 21:50:08,820] Trial 34 finished with value: 0.7792207792207793 and parameters: {'model_type': 'DecisionTree', 'max_depth': 7, 'min_samples_split': 10}. Best is trial 12 with value: 0.7922077922077922.\n",
      "[I 2025-01-06 21:50:09,610] Trial 35 finished with value: 0.7597402597402597 and parameters: {'model_type': 'RandomForest', 'n_estimators': 199, 'max_depth': 11}. Best is trial 12 with value: 0.7922077922077922.\n",
      "[I 2025-01-06 21:50:10,113] Trial 36 finished with value: 0.7077922077922078 and parameters: {'model_type': 'SVM', 'C': 2.068323791203578e-05, 'kernel': 'rbf'}. Best is trial 12 with value: 0.7922077922077922.\n",
      "[I 2025-01-06 21:50:10,325] Trial 37 finished with value: 0.7532467532467533 and parameters: {'model_type': 'RandomForest', 'n_estimators': 46, 'max_depth': 8}. Best is trial 12 with value: 0.7922077922077922.\n",
      "[I 2025-01-06 21:50:10,364] Trial 38 finished with value: 0.7402597402597403 and parameters: {'model_type': 'DecisionTree', 'max_depth': 15, 'min_samples_split': 6}. Best is trial 12 with value: 0.7922077922077922.\n",
      "[I 2025-01-06 21:50:10,453] Trial 39 finished with value: 0.7402597402597403 and parameters: {'model_type': 'RandomForest', 'n_estimators': 14, 'max_depth': 9}. Best is trial 12 with value: 0.7922077922077922.\n",
      "[I 2025-01-06 21:50:10,475] Trial 40 finished with value: 0.7662337662337663 and parameters: {'model_type': 'LogisticRegression', 'C': 1.2493364836792618}. Best is trial 12 with value: 0.7922077922077922.\n",
      "[I 2025-01-06 21:50:10,785] Trial 41 finished with value: 0.7727272727272727 and parameters: {'model_type': 'RandomForest', 'n_estimators': 84, 'max_depth': 4}. Best is trial 12 with value: 0.7922077922077922.\n",
      "[I 2025-01-06 21:50:11,045] Trial 42 finished with value: 0.7792207792207793 and parameters: {'model_type': 'RandomForest', 'n_estimators': 63, 'max_depth': 5}. Best is trial 12 with value: 0.7922077922077922.\n",
      "[I 2025-01-06 21:50:11,224] Trial 43 finished with value: 0.7792207792207793 and parameters: {'model_type': 'RandomForest', 'n_estimators': 45, 'max_depth': 3}. Best is trial 12 with value: 0.7922077922077922.\n",
      "[I 2025-01-06 21:50:11,576] Trial 44 finished with value: 0.7857142857142857 and parameters: {'model_type': 'RandomForest', 'n_estimators': 86, 'max_depth': 7}. Best is trial 12 with value: 0.7922077922077922.\n",
      "[I 2025-01-06 21:50:12,021] Trial 45 finished with value: 0.7597402597402597 and parameters: {'model_type': 'RandomForest', 'n_estimators': 115, 'max_depth': 7}. Best is trial 12 with value: 0.7922077922077922.\n",
      "[I 2025-01-06 21:50:12,240] Trial 46 finished with value: 0.7272727272727273 and parameters: {'model_type': 'SVM', 'C': 34.07664481604305, 'kernel': 'rbf'}. Best is trial 12 with value: 0.7922077922077922.\n",
      "[I 2025-01-06 21:50:12,970] Trial 47 finished with value: 0.7662337662337663 and parameters: {'model_type': 'RandomForest', 'n_estimators': 185, 'max_depth': 9}. Best is trial 12 with value: 0.7922077922077922.\n",
      "[I 2025-01-06 21:50:13,233] Trial 48 finished with value: 0.7077922077922078 and parameters: {'model_type': 'XGBoost', 'max_depth': 6, 'learning_rate': 1.2615790701924409e-05, 'n_estimators': 91}. Best is trial 12 with value: 0.7922077922077922.\n",
      "[I 2025-01-06 21:50:13,926] Trial 49 finished with value: 0.7337662337662337 and parameters: {'model_type': 'RandomForest', 'n_estimators': 166, 'max_depth': 13}. Best is trial 12 with value: 0.7922077922077922.\n",
      "[I 2025-01-06 21:50:14,490] Trial 50 finished with value: 0.7597402597402597 and parameters: {'model_type': 'RandomForest', 'n_estimators': 134, 'max_depth': 8}. Best is trial 12 with value: 0.7922077922077922.\n",
      "[I 2025-01-06 21:50:14,822] Trial 51 finished with value: 0.7662337662337663 and parameters: {'model_type': 'RandomForest', 'n_estimators': 85, 'max_depth': 5}. Best is trial 12 with value: 0.7922077922077922.\n",
      "[I 2025-01-06 21:50:15,094] Trial 52 finished with value: 0.7662337662337663 and parameters: {'model_type': 'RandomForest', 'n_estimators': 75, 'max_depth': 4}. Best is trial 12 with value: 0.7922077922077922.\n",
      "[I 2025-01-06 21:50:15,335] Trial 53 finished with value: 0.7597402597402597 and parameters: {'model_type': 'RandomForest', 'n_estimators': 51, 'max_depth': 10}. Best is trial 12 with value: 0.7922077922077922.\n",
      "[I 2025-01-06 21:50:15,793] Trial 54 finished with value: 0.7337662337662337 and parameters: {'model_type': 'RandomForest', 'n_estimators': 109, 'max_depth': 20}. Best is trial 12 with value: 0.7922077922077922.\n",
      "[I 2025-01-06 21:50:16,102] Trial 55 finished with value: 0.7532467532467533 and parameters: {'model_type': 'RandomForest', 'n_estimators': 76, 'max_depth': 7}. Best is trial 12 with value: 0.7922077922077922.\n",
      "[I 2025-01-06 21:50:16,124] Trial 56 finished with value: 0.7077922077922078 and parameters: {'model_type': 'LogisticRegression', 'C': 0.0004678872925664117}. Best is trial 12 with value: 0.7922077922077922.\n",
      "[I 2025-01-06 21:50:16,299] Trial 57 finished with value: 0.7727272727272727 and parameters: {'model_type': 'RandomForest', 'n_estimators': 34, 'max_depth': 11}. Best is trial 12 with value: 0.7922077922077922.\n",
      "[I 2025-01-06 21:50:16,920] Trial 58 finished with value: 0.7077922077922078 and parameters: {'model_type': 'XGBoost', 'max_depth': 8, 'learning_rate': 0.0014440080850306534, 'n_estimators': 185}. Best is trial 12 with value: 0.7922077922077922.\n",
      "[I 2025-01-06 21:50:16,950] Trial 59 finished with value: 0.7662337662337663 and parameters: {'model_type': 'DecisionTree', 'max_depth': 6, 'min_samples_split': 8}. Best is trial 12 with value: 0.7922077922077922.\n",
      "[I 2025-01-06 21:50:17,309] Trial 60 finished with value: 0.7792207792207793 and parameters: {'model_type': 'RandomForest', 'n_estimators': 98, 'max_depth': 3}. Best is trial 12 with value: 0.7922077922077922.\n",
      "[I 2025-01-06 21:50:18,037] Trial 61 finished with value: 0.7662337662337663 and parameters: {'model_type': 'RandomForest', 'n_estimators': 179, 'max_depth': 11}. Best is trial 12 with value: 0.7922077922077922.\n",
      "[I 2025-01-06 21:50:18,744] Trial 62 finished with value: 0.7402597402597403 and parameters: {'model_type': 'RandomForest', 'n_estimators': 174, 'max_depth': 12}. Best is trial 12 with value: 0.7922077922077922.\n",
      "[I 2025-01-06 21:50:19,509] Trial 63 finished with value: 0.7337662337662337 and parameters: {'model_type': 'RandomForest', 'n_estimators': 190, 'max_depth': 9}. Best is trial 12 with value: 0.7922077922077922.\n",
      "[I 2025-01-06 21:50:19,764] Trial 64 finished with value: 0.7337662337662337 and parameters: {'model_type': 'RandomForest', 'n_estimators': 55, 'max_depth': 10}. Best is trial 12 with value: 0.7922077922077922.\n",
      "[I 2025-01-06 21:50:19,844] Trial 65 finished with value: 0.7662337662337663 and parameters: {'model_type': 'SVM', 'C': 0.17126507217431802, 'kernel': 'linear'}. Best is trial 12 with value: 0.7922077922077922.\n",
      "[I 2025-01-06 21:50:20,571] Trial 66 finished with value: 0.7402597402597403 and parameters: {'model_type': 'RandomForest', 'n_estimators': 170, 'max_depth': 13}. Best is trial 12 with value: 0.7922077922077922.\n",
      "[I 2025-01-06 21:50:21,270] Trial 67 finished with value: 0.7532467532467533 and parameters: {'model_type': 'RandomForest', 'n_estimators': 157, 'max_depth': 12}. Best is trial 12 with value: 0.7922077922077922.\n",
      "[I 2025-01-06 21:50:21,872] Trial 68 finished with value: 0.7532467532467533 and parameters: {'model_type': 'RandomForest', 'n_estimators': 145, 'max_depth': 9}. Best is trial 12 with value: 0.7922077922077922.\n",
      "[I 2025-01-06 21:50:21,894] Trial 69 finished with value: 0.7467532467532467 and parameters: {'model_type': 'LogisticRegression', 'C': 0.005801590776505906}. Best is trial 12 with value: 0.7922077922077922.\n",
      "[I 2025-01-06 21:50:22,702] Trial 70 finished with value: 0.7272727272727273 and parameters: {'model_type': 'RandomForest', 'n_estimators': 191, 'max_depth': 11}. Best is trial 12 with value: 0.7922077922077922.\n",
      "[I 2025-01-06 21:50:22,741] Trial 71 finished with value: 0.7792207792207793 and parameters: {'model_type': 'DecisionTree', 'max_depth': 7, 'min_samples_split': 10}. Best is trial 12 with value: 0.7922077922077922.\n",
      "[I 2025-01-06 21:50:22,779] Trial 72 finished with value: 0.7792207792207793 and parameters: {'model_type': 'DecisionTree', 'max_depth': 7, 'min_samples_split': 8}. Best is trial 12 with value: 0.7922077922077922.\n",
      "[I 2025-01-06 21:50:22,827] Trial 73 finished with value: 0.7337662337662337 and parameters: {'model_type': 'DecisionTree', 'max_depth': 8, 'min_samples_split': 4}. Best is trial 12 with value: 0.7922077922077922.\n",
      "[I 2025-01-06 21:50:22,870] Trial 74 finished with value: 0.7662337662337663 and parameters: {'model_type': 'DecisionTree', 'max_depth': 6, 'min_samples_split': 8}. Best is trial 12 with value: 0.7922077922077922.\n",
      "[I 2025-01-06 21:50:22,918] Trial 75 finished with value: 0.7467532467532467 and parameters: {'model_type': 'DecisionTree', 'max_depth': 4, 'min_samples_split': 6}. Best is trial 12 with value: 0.7922077922077922.\n",
      "[I 2025-01-06 21:50:23,118] Trial 76 finished with value: 0.7077922077922078 and parameters: {'model_type': 'XGBoost', 'max_depth': 5, 'learning_rate': 0.0015933148979252962, 'n_estimators': 70}. Best is trial 12 with value: 0.7922077922077922.\n",
      "[I 2025-01-06 21:50:23,845] Trial 77 finished with value: 0.7727272727272727 and parameters: {'model_type': 'RandomForest', 'n_estimators': 176, 'max_depth': 8}. Best is trial 12 with value: 0.7922077922077922.\n",
      "[I 2025-01-06 21:50:24,024] Trial 78 finished with value: 0.7662337662337663 and parameters: {'model_type': 'SVM', 'C': 3.211671537905801, 'kernel': 'linear'}. Best is trial 12 with value: 0.7922077922077922.\n",
      "[I 2025-01-06 21:50:24,161] Trial 79 finished with value: 0.7402597402597403 and parameters: {'model_type': 'RandomForest', 'n_estimators': 23, 'max_depth': 10}. Best is trial 12 with value: 0.7922077922077922.\n",
      "[I 2025-01-06 21:50:24,970] Trial 80 finished with value: 0.7532467532467533 and parameters: {'model_type': 'RandomForest', 'n_estimators': 200, 'max_depth': 9}. Best is trial 12 with value: 0.7922077922077922.\n",
      "[I 2025-01-06 21:50:25,242] Trial 81 finished with value: 0.7727272727272727 and parameters: {'model_type': 'RandomForest', 'n_estimators': 63, 'max_depth': 5}. Best is trial 12 with value: 0.7922077922077922.\n",
      "[I 2025-01-06 21:50:25,493] Trial 82 finished with value: 0.7922077922077922 and parameters: {'model_type': 'RandomForest', 'n_estimators': 60, 'max_depth': 5}. Best is trial 12 with value: 0.7922077922077922.\n",
      "[I 2025-01-06 21:50:25,649] Trial 83 finished with value: 0.7922077922077922 and parameters: {'model_type': 'RandomForest', 'n_estimators': 34, 'max_depth': 6}. Best is trial 12 with value: 0.7922077922077922.\n",
      "[I 2025-01-06 21:50:25,825] Trial 84 finished with value: 0.7597402597402597 and parameters: {'model_type': 'RandomForest', 'n_estimators': 38, 'max_depth': 6}. Best is trial 12 with value: 0.7922077922077922.\n",
      "[I 2025-01-06 21:50:25,982] Trial 85 finished with value: 0.7597402597402597 and parameters: {'model_type': 'RandomForest', 'n_estimators': 29, 'max_depth': 6}. Best is trial 12 with value: 0.7922077922077922.\n",
      "[I 2025-01-06 21:50:26,222] Trial 86 finished with value: 0.7727272727272727 and parameters: {'model_type': 'RandomForest', 'n_estimators': 56, 'max_depth': 4}. Best is trial 12 with value: 0.7922077922077922.\n",
      "[I 2025-01-06 21:50:26,407] Trial 87 finished with value: 0.7857142857142857 and parameters: {'model_type': 'RandomForest', 'n_estimators': 40, 'max_depth': 3}. Best is trial 12 with value: 0.7922077922077922.\n",
      "[I 2025-01-06 21:50:26,572] Trial 88 finished with value: 0.7857142857142857 and parameters: {'model_type': 'RandomForest', 'n_estimators': 41, 'max_depth': 3}. Best is trial 12 with value: 0.7922077922077922.\n",
      "[I 2025-01-06 21:50:26,747] Trial 89 finished with value: 0.7857142857142857 and parameters: {'model_type': 'RandomForest', 'n_estimators': 41, 'max_depth': 3}. Best is trial 12 with value: 0.7922077922077922.\n",
      "[I 2025-01-06 21:50:26,854] Trial 90 finished with value: 0.7727272727272727 and parameters: {'model_type': 'RandomForest', 'n_estimators': 20, 'max_depth': 3}. Best is trial 12 with value: 0.7922077922077922.\n",
      "[I 2025-01-06 21:50:27,042] Trial 91 finished with value: 0.8051948051948052 and parameters: {'model_type': 'RandomForest', 'n_estimators': 38, 'max_depth': 3}. Best is trial 91 with value: 0.8051948051948052.\n",
      "[I 2025-01-06 21:50:27,241] Trial 92 finished with value: 0.7792207792207793 and parameters: {'model_type': 'RandomForest', 'n_estimators': 40, 'max_depth': 3}. Best is trial 91 with value: 0.8051948051948052.\n",
      "[I 2025-01-06 21:50:27,371] Trial 93 finished with value: 0.7727272727272727 and parameters: {'model_type': 'RandomForest', 'n_estimators': 29, 'max_depth': 4}. Best is trial 91 with value: 0.8051948051948052.\n",
      "[I 2025-01-06 21:50:27,562] Trial 94 finished with value: 0.7792207792207793 and parameters: {'model_type': 'RandomForest', 'n_estimators': 47, 'max_depth': 3}. Best is trial 91 with value: 0.8051948051948052.\n",
      "[I 2025-01-06 21:50:27,716] Trial 95 finished with value: 0.7727272727272727 and parameters: {'model_type': 'RandomForest', 'n_estimators': 32, 'max_depth': 5}. Best is trial 91 with value: 0.8051948051948052.\n",
      "[I 2025-01-06 21:50:27,907] Trial 96 finished with value: 0.7857142857142857 and parameters: {'model_type': 'RandomForest', 'n_estimators': 40, 'max_depth': 4}. Best is trial 91 with value: 0.8051948051948052.\n",
      "[I 2025-01-06 21:50:28,134] Trial 97 finished with value: 0.7857142857142857 and parameters: {'model_type': 'RandomForest', 'n_estimators': 43, 'max_depth': 4}. Best is trial 91 with value: 0.8051948051948052.\n",
      "[I 2025-01-06 21:50:28,225] Trial 98 finished with value: 0.7792207792207793 and parameters: {'model_type': 'RandomForest', 'n_estimators': 16, 'max_depth': 3}. Best is trial 91 with value: 0.8051948051948052.\n",
      "[I 2025-01-06 21:50:28,456] Trial 99 finished with value: 0.7792207792207793 and parameters: {'model_type': 'RandomForest', 'n_estimators': 57, 'max_depth': 5}. Best is trial 91 with value: 0.8051948051948052.\n"
     ]
    }
   ],
   "source": [
    "study = optuna.create_study(direction='maximize')  # Mazimising Accuracy score\n",
    "study.optimize(objective, n_trials=100)"
   ]
  },
  {
   "cell_type": "markdown",
   "id": "394d7de1-b6e5-4849-ae79-514c0fcfffab",
   "metadata": {},
   "source": [
    "Print the best hyperparameters and score"
   ]
  },
  {
   "cell_type": "code",
   "execution_count": 45,
   "id": "47ac62d9-1af5-4796-8a82-1c96bd41c3dd",
   "metadata": {},
   "outputs": [
    {
     "name": "stdout",
     "output_type": "stream",
     "text": [
      "Best trial: {'model_type': 'RandomForest', 'n_estimators': 38, 'max_depth': 3}\n"
     ]
    }
   ],
   "source": [
    "print(f\"Best trial: {study.best_trial.params}\")"
   ]
  },
  {
   "cell_type": "code",
   "execution_count": 46,
   "id": "6dd2623a-af4d-472a-b0dd-7b2349ceb8b2",
   "metadata": {},
   "outputs": [
    {
     "name": "stdout",
     "output_type": "stream",
     "text": [
      "Best Accuracy Score: 0.8051948051948052\n"
     ]
    }
   ],
   "source": [
    "print(f\"Best Accuracy Score: {study.best_value}\")"
   ]
  },
  {
   "cell_type": "markdown",
   "id": "b2856b87-cc05-438e-bc64-c40c5e433bec",
   "metadata": {},
   "source": [
    "Therefore RandomForest predicts the best results "
   ]
  },
  {
   "cell_type": "code",
   "execution_count": null,
   "id": "afa0e519-feb2-416a-8847-3629f5053ef4",
   "metadata": {},
   "outputs": [],
   "source": []
  },
  {
   "cell_type": "code",
   "execution_count": null,
   "id": "f8e0e868-ca3e-47fd-afd2-24d7d8e04697",
   "metadata": {},
   "outputs": [],
   "source": []
  }
 ],
 "metadata": {
  "kernelspec": {
   "display_name": "Python 3 (ipykernel)",
   "language": "python",
   "name": "python3"
  },
  "language_info": {
   "codemirror_mode": {
    "name": "ipython",
    "version": 3
   },
   "file_extension": ".py",
   "mimetype": "text/x-python",
   "name": "python",
   "nbconvert_exporter": "python",
   "pygments_lexer": "ipython3",
   "version": "3.13.1"
  }
 },
 "nbformat": 4,
 "nbformat_minor": 5
}
